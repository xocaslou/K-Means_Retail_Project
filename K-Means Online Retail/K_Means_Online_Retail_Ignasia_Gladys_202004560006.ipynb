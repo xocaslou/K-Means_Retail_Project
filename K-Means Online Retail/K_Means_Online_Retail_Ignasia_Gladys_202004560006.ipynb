{
  "cells": [
    {
      "cell_type": "markdown",
      "metadata": {
        "id": "I1ZGcP0nEZ9j"
      },
      "source": [
        "Online Retail K-Means & Hierarchical Clustering\n",
        "\n",
        "Source : https://www.kaggle.com/datasets/hellbuoy/online-retail-customer-clustering?resource=download\n",
        "\n",
        "Pada notebook yang saya gunakan sebagai referensi, project ini mengambil dataset dari transaksi penjualan sebuah online retail di Inggris.\n",
        "Tujuan dari pengolahan dataset ini adalah untuk menemukan kelompok pelanggan agar perusahaan dapat menargetkan customernya secara efisien.\n",
        "\n",
        "\n",
        "Segmentasi yang dilakukan berdasar pada analisis segmentasi pelanggan dengan model RFM yaitu Recency, Frequency dan Monetary. Monetary disini dilambangkan oleh atribut Amount.\n",
        "\n",
        "Step yang dilakukan ada 5 yaitu\n",
        "\n",
        "1. Reading and Understanding Data\n",
        "2. Data Cleaning\n",
        "3. Data Preparation \n",
        "4. Model Building \n",
        "5. Final Analysis"
      ]
    },
    {
      "cell_type": "markdown",
      "metadata": {
        "id": "xsjtWG7Abqaz"
      },
      "source": [
        "# Reading and Understanding Data\n"
      ]
    },
    {
      "cell_type": "code",
      "execution_count": null,
      "metadata": {
        "id": "pJajX1yRRsOR"
      },
      "outputs": [],
      "source": [
        "# pertama dilakukan inmport mengenai libraries-libraries yang dibutuhkan dalam pengerjaan\n",
        "\n",
        "import numpy as np\n",
        "import pandas as pd\n",
        "import matplotlib.pyplot as plt\n",
        "import seaborn as sns\n",
        "import datetime as dt\n",
        "\n",
        "\n",
        "# dibawah merupakan libraries yang diperlukan untuk clustering\n",
        "import sklearn\n",
        "from sklearn.preprocessing import StandardScaler\n",
        "from sklearn.cluster import KMeans\n",
        "from sklearn.metrics import silhouette_score\n",
        "from scipy.cluster.hierarchy import linkage\n",
        "from scipy.cluster.hierarchy import dendrogram\n",
        "from scipy.cluster.hierarchy import cut_tree"
      ]
    },
    {
      "cell_type": "code",
      "execution_count": null,
      "metadata": {
        "colab": {
          "base_uri": "https://localhost:8080/",
          "height": 74,
          "resources": {
            "http://localhost:8080/nbextensions/google.colab/files.js": {
              "data": "Ly8gQ29weXJpZ2h0IDIwMTcgR29vZ2xlIExMQwovLwovLyBMaWNlbnNlZCB1bmRlciB0aGUgQXBhY2hlIExpY2Vuc2UsIFZlcnNpb24gMi4wICh0aGUgIkxpY2Vuc2UiKTsKLy8geW91IG1heSBub3QgdXNlIHRoaXMgZmlsZSBleGNlcHQgaW4gY29tcGxpYW5jZSB3aXRoIHRoZSBMaWNlbnNlLgovLyBZb3UgbWF5IG9idGFpbiBhIGNvcHkgb2YgdGhlIExpY2Vuc2UgYXQKLy8KLy8gICAgICBodHRwOi8vd3d3LmFwYWNoZS5vcmcvbGljZW5zZXMvTElDRU5TRS0yLjAKLy8KLy8gVW5sZXNzIHJlcXVpcmVkIGJ5IGFwcGxpY2FibGUgbGF3IG9yIGFncmVlZCB0byBpbiB3cml0aW5nLCBzb2Z0d2FyZQovLyBkaXN0cmlidXRlZCB1bmRlciB0aGUgTGljZW5zZSBpcyBkaXN0cmlidXRlZCBvbiBhbiAiQVMgSVMiIEJBU0lTLAovLyBXSVRIT1VUIFdBUlJBTlRJRVMgT1IgQ09ORElUSU9OUyBPRiBBTlkgS0lORCwgZWl0aGVyIGV4cHJlc3Mgb3IgaW1wbGllZC4KLy8gU2VlIHRoZSBMaWNlbnNlIGZvciB0aGUgc3BlY2lmaWMgbGFuZ3VhZ2UgZ292ZXJuaW5nIHBlcm1pc3Npb25zIGFuZAovLyBsaW1pdGF0aW9ucyB1bmRlciB0aGUgTGljZW5zZS4KCi8qKgogKiBAZmlsZW92ZXJ2aWV3IEhlbHBlcnMgZm9yIGdvb2dsZS5jb2xhYiBQeXRob24gbW9kdWxlLgogKi8KKGZ1bmN0aW9uKHNjb3BlKSB7CmZ1bmN0aW9uIHNwYW4odGV4dCwgc3R5bGVBdHRyaWJ1dGVzID0ge30pIHsKICBjb25zdCBlbGVtZW50ID0gZG9jdW1lbnQuY3JlYXRlRWxlbWVudCgnc3BhbicpOwogIGVsZW1lbnQudGV4dENvbnRlbnQgPSB0ZXh0OwogIGZvciAoY29uc3Qga2V5IG9mIE9iamVjdC5rZXlzKHN0eWxlQXR0cmlidXRlcykpIHsKICAgIGVsZW1lbnQuc3R5bGVba2V5XSA9IHN0eWxlQXR0cmlidXRlc1trZXldOwogIH0KICByZXR1cm4gZWxlbWVudDsKfQoKLy8gTWF4IG51bWJlciBvZiBieXRlcyB3aGljaCB3aWxsIGJlIHVwbG9hZGVkIGF0IGEgdGltZS4KY29uc3QgTUFYX1BBWUxPQURfU0laRSA9IDEwMCAqIDEwMjQ7CgpmdW5jdGlvbiBfdXBsb2FkRmlsZXMoaW5wdXRJZCwgb3V0cHV0SWQpIHsKICBjb25zdCBzdGVwcyA9IHVwbG9hZEZpbGVzU3RlcChpbnB1dElkLCBvdXRwdXRJZCk7CiAgY29uc3Qgb3V0cHV0RWxlbWVudCA9IGRvY3VtZW50LmdldEVsZW1lbnRCeUlkKG91dHB1dElkKTsKICAvLyBDYWNoZSBzdGVwcyBvbiB0aGUgb3V0cHV0RWxlbWVudCB0byBtYWtlIGl0IGF2YWlsYWJsZSBmb3IgdGhlIG5leHQgY2FsbAogIC8vIHRvIHVwbG9hZEZpbGVzQ29udGludWUgZnJvbSBQeXRob24uCiAgb3V0cHV0RWxlbWVudC5zdGVwcyA9IHN0ZXBzOwoKICByZXR1cm4gX3VwbG9hZEZpbGVzQ29udGludWUob3V0cHV0SWQpOwp9CgovLyBUaGlzIGlzIHJvdWdobHkgYW4gYXN5bmMgZ2VuZXJhdG9yIChub3Qgc3VwcG9ydGVkIGluIHRoZSBicm93c2VyIHlldCksCi8vIHdoZXJlIHRoZXJlIGFyZSBtdWx0aXBsZSBhc3luY2hyb25vdXMgc3RlcHMgYW5kIHRoZSBQeXRob24gc2lkZSBpcyBnb2luZwovLyB0byBwb2xsIGZvciBjb21wbGV0aW9uIG9mIGVhY2ggc3RlcC4KLy8gVGhpcyB1c2VzIGEgUHJvbWlzZSB0byBibG9jayB0aGUgcHl0aG9uIHNpZGUgb24gY29tcGxldGlvbiBvZiBlYWNoIHN0ZXAsCi8vIHRoZW4gcGFzc2VzIHRoZSByZXN1bHQgb2YgdGhlIHByZXZpb3VzIHN0ZXAgYXMgdGhlIGlucHV0IHRvIHRoZSBuZXh0IHN0ZXAuCmZ1bmN0aW9uIF91cGxvYWRGaWxlc0NvbnRpbnVlKG91dHB1dElkKSB7CiAgY29uc3Qgb3V0cHV0RWxlbWVudCA9IGRvY3VtZW50LmdldEVsZW1lbnRCeUlkKG91dHB1dElkKTsKICBjb25zdCBzdGVwcyA9IG91dHB1dEVsZW1lbnQuc3RlcHM7CgogIGNvbnN0IG5leHQgPSBzdGVwcy5uZXh0KG91dHB1dEVsZW1lbnQubGFzdFByb21pc2VWYWx1ZSk7CiAgcmV0dXJuIFByb21pc2UucmVzb2x2ZShuZXh0LnZhbHVlLnByb21pc2UpLnRoZW4oKHZhbHVlKSA9PiB7CiAgICAvLyBDYWNoZSB0aGUgbGFzdCBwcm9taXNlIHZhbHVlIHRvIG1ha2UgaXQgYXZhaWxhYmxlIHRvIHRoZSBuZXh0CiAgICAvLyBzdGVwIG9mIHRoZSBnZW5lcmF0b3IuCiAgICBvdXRwdXRFbGVtZW50Lmxhc3RQcm9taXNlVmFsdWUgPSB2YWx1ZTsKICAgIHJldHVybiBuZXh0LnZhbHVlLnJlc3BvbnNlOwogIH0pOwp9CgovKioKICogR2VuZXJhdG9yIGZ1bmN0aW9uIHdoaWNoIGlzIGNhbGxlZCBiZXR3ZWVuIGVhY2ggYXN5bmMgc3RlcCBvZiB0aGUgdXBsb2FkCiAqIHByb2Nlc3MuCiAqIEBwYXJhbSB7c3RyaW5nfSBpbnB1dElkIEVsZW1lbnQgSUQgb2YgdGhlIGlucHV0IGZpbGUgcGlja2VyIGVsZW1lbnQuCiAqIEBwYXJhbSB7c3RyaW5nfSBvdXRwdXRJZCBFbGVtZW50IElEIG9mIHRoZSBvdXRwdXQgZGlzcGxheS4KICogQHJldHVybiB7IUl0ZXJhYmxlPCFPYmplY3Q+fSBJdGVyYWJsZSBvZiBuZXh0IHN0ZXBzLgogKi8KZnVuY3Rpb24qIHVwbG9hZEZpbGVzU3RlcChpbnB1dElkLCBvdXRwdXRJZCkgewogIGNvbnN0IGlucHV0RWxlbWVudCA9IGRvY3VtZW50LmdldEVsZW1lbnRCeUlkKGlucHV0SWQpOwogIGlucHV0RWxlbWVudC5kaXNhYmxlZCA9IGZhbHNlOwoKICBjb25zdCBvdXRwdXRFbGVtZW50ID0gZG9jdW1lbnQuZ2V0RWxlbWVudEJ5SWQob3V0cHV0SWQpOwogIG91dHB1dEVsZW1lbnQuaW5uZXJIVE1MID0gJyc7CgogIGNvbnN0IHBpY2tlZFByb21pc2UgPSBuZXcgUHJvbWlzZSgocmVzb2x2ZSkgPT4gewogICAgaW5wdXRFbGVtZW50LmFkZEV2ZW50TGlzdGVuZXIoJ2NoYW5nZScsIChlKSA9PiB7CiAgICAgIHJlc29sdmUoZS50YXJnZXQuZmlsZXMpOwogICAgfSk7CiAgfSk7CgogIGNvbnN0IGNhbmNlbCA9IGRvY3VtZW50LmNyZWF0ZUVsZW1lbnQoJ2J1dHRvbicpOwogIGlucHV0RWxlbWVudC5wYXJlbnRFbGVtZW50LmFwcGVuZENoaWxkKGNhbmNlbCk7CiAgY2FuY2VsLnRleHRDb250ZW50ID0gJ0NhbmNlbCB1cGxvYWQnOwogIGNvbnN0IGNhbmNlbFByb21pc2UgPSBuZXcgUHJvbWlzZSgocmVzb2x2ZSkgPT4gewogICAgY2FuY2VsLm9uY2xpY2sgPSAoKSA9PiB7CiAgICAgIHJlc29sdmUobnVsbCk7CiAgICB9OwogIH0pOwoKICAvLyBXYWl0IGZvciB0aGUgdXNlciB0byBwaWNrIHRoZSBmaWxlcy4KICBjb25zdCBmaWxlcyA9IHlpZWxkIHsKICAgIHByb21pc2U6IFByb21pc2UucmFjZShbcGlja2VkUHJvbWlzZSwgY2FuY2VsUHJvbWlzZV0pLAogICAgcmVzcG9uc2U6IHsKICAgICAgYWN0aW9uOiAnc3RhcnRpbmcnLAogICAgfQogIH07CgogIGNhbmNlbC5yZW1vdmUoKTsKCiAgLy8gRGlzYWJsZSB0aGUgaW5wdXQgZWxlbWVudCBzaW5jZSBmdXJ0aGVyIHBpY2tzIGFyZSBub3QgYWxsb3dlZC4KICBpbnB1dEVsZW1lbnQuZGlzYWJsZWQgPSB0cnVlOwoKICBpZiAoIWZpbGVzKSB7CiAgICByZXR1cm4gewogICAgICByZXNwb25zZTogewogICAgICAgIGFjdGlvbjogJ2NvbXBsZXRlJywKICAgICAgfQogICAgfTsKICB9CgogIGZvciAoY29uc3QgZmlsZSBvZiBmaWxlcykgewogICAgY29uc3QgbGkgPSBkb2N1bWVudC5jcmVhdGVFbGVtZW50KCdsaScpOwogICAgbGkuYXBwZW5kKHNwYW4oZmlsZS5uYW1lLCB7Zm9udFdlaWdodDogJ2JvbGQnfSkpOwogICAgbGkuYXBwZW5kKHNwYW4oCiAgICAgICAgYCgke2ZpbGUudHlwZSB8fCAnbi9hJ30pIC0gJHtmaWxlLnNpemV9IGJ5dGVzLCBgICsKICAgICAgICBgbGFzdCBtb2RpZmllZDogJHsKICAgICAgICAgICAgZmlsZS5sYXN0TW9kaWZpZWREYXRlID8gZmlsZS5sYXN0TW9kaWZpZWREYXRlLnRvTG9jYWxlRGF0ZVN0cmluZygpIDoKICAgICAgICAgICAgICAgICAgICAgICAgICAgICAgICAgICAgJ24vYSd9IC0gYCkpOwogICAgY29uc3QgcGVyY2VudCA9IHNwYW4oJzAlIGRvbmUnKTsKICAgIGxpLmFwcGVuZENoaWxkKHBlcmNlbnQpOwoKICAgIG91dHB1dEVsZW1lbnQuYXBwZW5kQ2hpbGQobGkpOwoKICAgIGNvbnN0IGZpbGVEYXRhUHJvbWlzZSA9IG5ldyBQcm9taXNlKChyZXNvbHZlKSA9PiB7CiAgICAgIGNvbnN0IHJlYWRlciA9IG5ldyBGaWxlUmVhZGVyKCk7CiAgICAgIHJlYWRlci5vbmxvYWQgPSAoZSkgPT4gewogICAgICAgIHJlc29sdmUoZS50YXJnZXQucmVzdWx0KTsKICAgICAgfTsKICAgICAgcmVhZGVyLnJlYWRBc0FycmF5QnVmZmVyKGZpbGUpOwogICAgfSk7CiAgICAvLyBXYWl0IGZvciB0aGUgZGF0YSB0byBiZSByZWFkeS4KICAgIGxldCBmaWxlRGF0YSA9IHlpZWxkIHsKICAgICAgcHJvbWlzZTogZmlsZURhdGFQcm9taXNlLAogICAgICByZXNwb25zZTogewogICAgICAgIGFjdGlvbjogJ2NvbnRpbnVlJywKICAgICAgfQogICAgfTsKCiAgICAvLyBVc2UgYSBjaHVua2VkIHNlbmRpbmcgdG8gYXZvaWQgbWVzc2FnZSBzaXplIGxpbWl0cy4gU2VlIGIvNjIxMTU2NjAuCiAgICBsZXQgcG9zaXRpb24gPSAwOwogICAgZG8gewogICAgICBjb25zdCBsZW5ndGggPSBNYXRoLm1pbihmaWxlRGF0YS5ieXRlTGVuZ3RoIC0gcG9zaXRpb24sIE1BWF9QQVlMT0FEX1NJWkUpOwogICAgICBjb25zdCBjaHVuayA9IG5ldyBVaW50OEFycmF5KGZpbGVEYXRhLCBwb3NpdGlvbiwgbGVuZ3RoKTsKICAgICAgcG9zaXRpb24gKz0gbGVuZ3RoOwoKICAgICAgY29uc3QgYmFzZTY0ID0gYnRvYShTdHJpbmcuZnJvbUNoYXJDb2RlLmFwcGx5KG51bGwsIGNodW5rKSk7CiAgICAgIHlpZWxkIHsKICAgICAgICByZXNwb25zZTogewogICAgICAgICAgYWN0aW9uOiAnYXBwZW5kJywKICAgICAgICAgIGZpbGU6IGZpbGUubmFtZSwKICAgICAgICAgIGRhdGE6IGJhc2U2NCwKICAgICAgICB9LAogICAgICB9OwoKICAgICAgbGV0IHBlcmNlbnREb25lID0gZmlsZURhdGEuYnl0ZUxlbmd0aCA9PT0gMCA/CiAgICAgICAgICAxMDAgOgogICAgICAgICAgTWF0aC5yb3VuZCgocG9zaXRpb24gLyBmaWxlRGF0YS5ieXRlTGVuZ3RoKSAqIDEwMCk7CiAgICAgIHBlcmNlbnQudGV4dENvbnRlbnQgPSBgJHtwZXJjZW50RG9uZX0lIGRvbmVgOwoKICAgIH0gd2hpbGUgKHBvc2l0aW9uIDwgZmlsZURhdGEuYnl0ZUxlbmd0aCk7CiAgfQoKICAvLyBBbGwgZG9uZS4KICB5aWVsZCB7CiAgICByZXNwb25zZTogewogICAgICBhY3Rpb246ICdjb21wbGV0ZScsCiAgICB9CiAgfTsKfQoKc2NvcGUuZ29vZ2xlID0gc2NvcGUuZ29vZ2xlIHx8IHt9OwpzY29wZS5nb29nbGUuY29sYWIgPSBzY29wZS5nb29nbGUuY29sYWIgfHwge307CnNjb3BlLmdvb2dsZS5jb2xhYi5fZmlsZXMgPSB7CiAgX3VwbG9hZEZpbGVzLAogIF91cGxvYWRGaWxlc0NvbnRpbnVlLAp9Owp9KShzZWxmKTsK",
              "headers": [
                [
                  "content-type",
                  "application/javascript"
                ]
              ],
              "ok": true,
              "status": 200,
              "status_text": ""
            }
          }
        },
        "id": "jiv_8P2aRu0i",
        "outputId": "49436a63-5397-406f-ae9d-07138af8d466"
      },
      "outputs": [
        {
          "data": {
            "text/html": [
              "\n",
              "     <input type=\"file\" id=\"files-3c9f5602-6c51-48e7-bea7-4caae6eee3ae\" name=\"files[]\" multiple disabled\n",
              "        style=\"border:none\" />\n",
              "     <output id=\"result-3c9f5602-6c51-48e7-bea7-4caae6eee3ae\">\n",
              "      Upload widget is only available when the cell has been executed in the\n",
              "      current browser session. Please rerun this cell to enable.\n",
              "      </output>\n",
              "      <script src=\"/nbextensions/google.colab/files.js\"></script> "
            ],
            "text/plain": [
              "<IPython.core.display.HTML object>"
            ]
          },
          "metadata": {},
          "output_type": "display_data"
        },
        {
          "name": "stdout",
          "output_type": "stream",
          "text": [
            "Saving OnlineRetail.csv to OnlineRetail (1).csv\n"
          ]
        }
      ],
      "source": [
        "# import dataset yang diperlukan\n",
        "# dataset merupakan data dari transaksi online\n",
        "\n",
        "from google.colab import files\n",
        "uploaded = files.upload()"
      ]
    },
    {
      "cell_type": "code",
      "execution_count": null,
      "metadata": {
        "id": "MpsSTW-QRv3U"
      },
      "outputs": [],
      "source": [
        "# membaca dataset\n",
        "\n",
        "retail = pd.read_csv(\"OnlineRetail.csv\", sep=\",\", encoding=\"ISO-8859-1\", header=0)"
      ]
    },
    {
      "cell_type": "code",
      "execution_count": null,
      "metadata": {
        "colab": {
          "base_uri": "https://localhost:8080/",
          "height": 215
        },
        "id": "1-5Fgt19bIf3",
        "outputId": "336b72f1-0c48-4a68-a5de-faea79a45cc1"
      },
      "outputs": [
        {
          "data": {
            "text/html": [
              "\n",
              "  <div id=\"df-fb8c0d88-d6e8-4e86-8a69-ed55dedf919b\">\n",
              "    <div class=\"colab-df-container\">\n",
              "      <div>\n",
              "<style scoped>\n",
              "    .dataframe tbody tr th:only-of-type {\n",
              "        vertical-align: middle;\n",
              "    }\n",
              "\n",
              "    .dataframe tbody tr th {\n",
              "        vertical-align: top;\n",
              "    }\n",
              "\n",
              "    .dataframe thead th {\n",
              "        text-align: right;\n",
              "    }\n",
              "</style>\n",
              "<table border=\"1\" class=\"dataframe\">\n",
              "  <thead>\n",
              "    <tr style=\"text-align: right;\">\n",
              "      <th></th>\n",
              "      <th>InvoiceNo</th>\n",
              "      <th>StockCode</th>\n",
              "      <th>Description</th>\n",
              "      <th>Quantity</th>\n",
              "      <th>InvoiceDate</th>\n",
              "      <th>UnitPrice</th>\n",
              "      <th>CustomerID</th>\n",
              "      <th>Country</th>\n",
              "    </tr>\n",
              "  </thead>\n",
              "  <tbody>\n",
              "    <tr>\n",
              "      <th>0</th>\n",
              "      <td>536365</td>\n",
              "      <td>85123A</td>\n",
              "      <td>WHITE HANGING HEART T-LIGHT HOLDER</td>\n",
              "      <td>6</td>\n",
              "      <td>01-12-2010 08:26</td>\n",
              "      <td>2.55</td>\n",
              "      <td>17850.0</td>\n",
              "      <td>United Kingdom</td>\n",
              "    </tr>\n",
              "    <tr>\n",
              "      <th>1</th>\n",
              "      <td>536365</td>\n",
              "      <td>71053</td>\n",
              "      <td>WHITE METAL LANTERN</td>\n",
              "      <td>6</td>\n",
              "      <td>01-12-2010 08:26</td>\n",
              "      <td>3.39</td>\n",
              "      <td>17850.0</td>\n",
              "      <td>United Kingdom</td>\n",
              "    </tr>\n",
              "    <tr>\n",
              "      <th>2</th>\n",
              "      <td>536365</td>\n",
              "      <td>84406B</td>\n",
              "      <td>CREAM CUPID HEARTS COAT HANGER</td>\n",
              "      <td>8</td>\n",
              "      <td>01-12-2010 08:26</td>\n",
              "      <td>2.75</td>\n",
              "      <td>17850.0</td>\n",
              "      <td>United Kingdom</td>\n",
              "    </tr>\n",
              "    <tr>\n",
              "      <th>3</th>\n",
              "      <td>536365</td>\n",
              "      <td>84029G</td>\n",
              "      <td>KNITTED UNION FLAG HOT WATER BOTTLE</td>\n",
              "      <td>6</td>\n",
              "      <td>01-12-2010 08:26</td>\n",
              "      <td>3.39</td>\n",
              "      <td>17850.0</td>\n",
              "      <td>United Kingdom</td>\n",
              "    </tr>\n",
              "    <tr>\n",
              "      <th>4</th>\n",
              "      <td>536365</td>\n",
              "      <td>84029E</td>\n",
              "      <td>RED WOOLLY HOTTIE WHITE HEART.</td>\n",
              "      <td>6</td>\n",
              "      <td>01-12-2010 08:26</td>\n",
              "      <td>3.39</td>\n",
              "      <td>17850.0</td>\n",
              "      <td>United Kingdom</td>\n",
              "    </tr>\n",
              "  </tbody>\n",
              "</table>\n",
              "</div>\n",
              "      <button class=\"colab-df-convert\" onclick=\"convertToInteractive('df-fb8c0d88-d6e8-4e86-8a69-ed55dedf919b')\"\n",
              "              title=\"Convert this dataframe to an interactive table.\"\n",
              "              style=\"display:none;\">\n",
              "        \n",
              "  <svg xmlns=\"http://www.w3.org/2000/svg\" height=\"24px\"viewBox=\"0 0 24 24\"\n",
              "       width=\"24px\">\n",
              "    <path d=\"M0 0h24v24H0V0z\" fill=\"none\"/>\n",
              "    <path d=\"M18.56 5.44l.94 2.06.94-2.06 2.06-.94-2.06-.94-.94-2.06-.94 2.06-2.06.94zm-11 1L8.5 8.5l.94-2.06 2.06-.94-2.06-.94L8.5 2.5l-.94 2.06-2.06.94zm10 10l.94 2.06.94-2.06 2.06-.94-2.06-.94-.94-2.06-.94 2.06-2.06.94z\"/><path d=\"M17.41 7.96l-1.37-1.37c-.4-.4-.92-.59-1.43-.59-.52 0-1.04.2-1.43.59L10.3 9.45l-7.72 7.72c-.78.78-.78 2.05 0 2.83L4 21.41c.39.39.9.59 1.41.59.51 0 1.02-.2 1.41-.59l7.78-7.78 2.81-2.81c.8-.78.8-2.07 0-2.86zM5.41 20L4 18.59l7.72-7.72 1.47 1.35L5.41 20z\"/>\n",
              "  </svg>\n",
              "      </button>\n",
              "      \n",
              "  <style>\n",
              "    .colab-df-container {\n",
              "      display:flex;\n",
              "      flex-wrap:wrap;\n",
              "      gap: 12px;\n",
              "    }\n",
              "\n",
              "    .colab-df-convert {\n",
              "      background-color: #E8F0FE;\n",
              "      border: none;\n",
              "      border-radius: 50%;\n",
              "      cursor: pointer;\n",
              "      display: none;\n",
              "      fill: #1967D2;\n",
              "      height: 32px;\n",
              "      padding: 0 0 0 0;\n",
              "      width: 32px;\n",
              "    }\n",
              "\n",
              "    .colab-df-convert:hover {\n",
              "      background-color: #E2EBFA;\n",
              "      box-shadow: 0px 1px 2px rgba(60, 64, 67, 0.3), 0px 1px 3px 1px rgba(60, 64, 67, 0.15);\n",
              "      fill: #174EA6;\n",
              "    }\n",
              "\n",
              "    [theme=dark] .colab-df-convert {\n",
              "      background-color: #3B4455;\n",
              "      fill: #D2E3FC;\n",
              "    }\n",
              "\n",
              "    [theme=dark] .colab-df-convert:hover {\n",
              "      background-color: #434B5C;\n",
              "      box-shadow: 0px 1px 3px 1px rgba(0, 0, 0, 0.15);\n",
              "      filter: drop-shadow(0px 1px 2px rgba(0, 0, 0, 0.3));\n",
              "      fill: #FFFFFF;\n",
              "    }\n",
              "  </style>\n",
              "\n",
              "      <script>\n",
              "        const buttonEl =\n",
              "          document.querySelector('#df-fb8c0d88-d6e8-4e86-8a69-ed55dedf919b button.colab-df-convert');\n",
              "        buttonEl.style.display =\n",
              "          google.colab.kernel.accessAllowed ? 'block' : 'none';\n",
              "\n",
              "        async function convertToInteractive(key) {\n",
              "          const element = document.querySelector('#df-fb8c0d88-d6e8-4e86-8a69-ed55dedf919b');\n",
              "          const dataTable =\n",
              "            await google.colab.kernel.invokeFunction('convertToInteractive',\n",
              "                                                     [key], {});\n",
              "          if (!dataTable) return;\n",
              "\n",
              "          const docLinkHtml = 'Like what you see? Visit the ' +\n",
              "            '<a target=\"_blank\" href=https://colab.research.google.com/notebooks/data_table.ipynb>data table notebook</a>'\n",
              "            + ' to learn more about interactive tables.';\n",
              "          element.innerHTML = '';\n",
              "          dataTable['output_type'] = 'display_data';\n",
              "          await google.colab.output.renderOutput(dataTable, element);\n",
              "          const docLink = document.createElement('div');\n",
              "          docLink.innerHTML = docLinkHtml;\n",
              "          element.appendChild(docLink);\n",
              "        }\n",
              "      </script>\n",
              "    </div>\n",
              "  </div>\n",
              "  "
            ],
            "text/plain": [
              "  InvoiceNo StockCode                          Description  Quantity  \\\n",
              "0    536365    85123A   WHITE HANGING HEART T-LIGHT HOLDER         6   \n",
              "1    536365     71053                  WHITE METAL LANTERN         6   \n",
              "2    536365    84406B       CREAM CUPID HEARTS COAT HANGER         8   \n",
              "3    536365    84029G  KNITTED UNION FLAG HOT WATER BOTTLE         6   \n",
              "4    536365    84029E       RED WOOLLY HOTTIE WHITE HEART.         6   \n",
              "\n",
              "        InvoiceDate  UnitPrice  CustomerID         Country  \n",
              "0  01-12-2010 08:26       2.55     17850.0  United Kingdom  \n",
              "1  01-12-2010 08:26       3.39     17850.0  United Kingdom  \n",
              "2  01-12-2010 08:26       2.75     17850.0  United Kingdom  \n",
              "3  01-12-2010 08:26       3.39     17850.0  United Kingdom  \n",
              "4  01-12-2010 08:26       3.39     17850.0  United Kingdom  "
            ]
          },
          "execution_count": 17,
          "metadata": {},
          "output_type": "execute_result"
        }
      ],
      "source": [
        "# deskripsi teratas untuk dataset berupa kategori dan isinya\n",
        "\n",
        "retail.head()"
      ]
    },
    {
      "cell_type": "code",
      "execution_count": null,
      "metadata": {
        "colab": {
          "base_uri": "https://localhost:8080/"
        },
        "id": "a76QSKE4SHAS",
        "outputId": "98163224-8d2c-408f-ff14-512c14164378"
      },
      "outputs": [
        {
          "data": {
            "text/plain": [
              "(541909, 8)"
            ]
          },
          "execution_count": 18,
          "metadata": {},
          "output_type": "execute_result"
        }
      ],
      "source": [
        "# menghitung total elemen di dataset\n",
        "\n",
        "retail.shape"
      ]
    },
    {
      "cell_type": "code",
      "execution_count": null,
      "metadata": {
        "colab": {
          "base_uri": "https://localhost:8080/"
        },
        "id": "Z15e5TrCSN70",
        "outputId": "c25aaa3c-7dc6-489e-ab3b-5607c6e77a3a"
      },
      "outputs": [
        {
          "name": "stdout",
          "output_type": "stream",
          "text": [
            "<class 'pandas.core.frame.DataFrame'>\n",
            "RangeIndex: 541909 entries, 0 to 541908\n",
            "Data columns (total 8 columns):\n",
            " #   Column       Non-Null Count   Dtype  \n",
            "---  ------       --------------   -----  \n",
            " 0   InvoiceNo    541909 non-null  object \n",
            " 1   StockCode    541909 non-null  object \n",
            " 2   Description  540455 non-null  object \n",
            " 3   Quantity     541909 non-null  int64  \n",
            " 4   InvoiceDate  541909 non-null  object \n",
            " 5   UnitPrice    541909 non-null  float64\n",
            " 6   CustomerID   406829 non-null  float64\n",
            " 7   Country      541909 non-null  object \n",
            "dtypes: float64(2), int64(1), object(5)\n",
            "memory usage: 33.1+ MB\n"
          ]
        }
      ],
      "source": [
        "# info mengenai kolom dari dataset \n",
        "\n",
        "retail.info()"
      ]
    },
    {
      "cell_type": "code",
      "execution_count": null,
      "metadata": {
        "colab": {
          "base_uri": "https://localhost:8080/",
          "height": 300
        },
        "id": "vPmF_Mi_SRGK",
        "outputId": "7c5f9043-6372-448b-ddb0-cd0d818c2fb7"
      },
      "outputs": [
        {
          "data": {
            "text/html": [
              "\n",
              "  <div id=\"df-c9a5374a-6da1-456e-ab8f-6ec74a3fd509\">\n",
              "    <div class=\"colab-df-container\">\n",
              "      <div>\n",
              "<style scoped>\n",
              "    .dataframe tbody tr th:only-of-type {\n",
              "        vertical-align: middle;\n",
              "    }\n",
              "\n",
              "    .dataframe tbody tr th {\n",
              "        vertical-align: top;\n",
              "    }\n",
              "\n",
              "    .dataframe thead th {\n",
              "        text-align: right;\n",
              "    }\n",
              "</style>\n",
              "<table border=\"1\" class=\"dataframe\">\n",
              "  <thead>\n",
              "    <tr style=\"text-align: right;\">\n",
              "      <th></th>\n",
              "      <th>Quantity</th>\n",
              "      <th>UnitPrice</th>\n",
              "      <th>CustomerID</th>\n",
              "    </tr>\n",
              "  </thead>\n",
              "  <tbody>\n",
              "    <tr>\n",
              "      <th>count</th>\n",
              "      <td>541909.000000</td>\n",
              "      <td>541909.000000</td>\n",
              "      <td>406829.000000</td>\n",
              "    </tr>\n",
              "    <tr>\n",
              "      <th>mean</th>\n",
              "      <td>9.552250</td>\n",
              "      <td>4.611114</td>\n",
              "      <td>15287.690570</td>\n",
              "    </tr>\n",
              "    <tr>\n",
              "      <th>std</th>\n",
              "      <td>218.081158</td>\n",
              "      <td>96.759853</td>\n",
              "      <td>1713.600303</td>\n",
              "    </tr>\n",
              "    <tr>\n",
              "      <th>min</th>\n",
              "      <td>-80995.000000</td>\n",
              "      <td>-11062.060000</td>\n",
              "      <td>12346.000000</td>\n",
              "    </tr>\n",
              "    <tr>\n",
              "      <th>25%</th>\n",
              "      <td>1.000000</td>\n",
              "      <td>1.250000</td>\n",
              "      <td>13953.000000</td>\n",
              "    </tr>\n",
              "    <tr>\n",
              "      <th>50%</th>\n",
              "      <td>3.000000</td>\n",
              "      <td>2.080000</td>\n",
              "      <td>15152.000000</td>\n",
              "    </tr>\n",
              "    <tr>\n",
              "      <th>75%</th>\n",
              "      <td>10.000000</td>\n",
              "      <td>4.130000</td>\n",
              "      <td>16791.000000</td>\n",
              "    </tr>\n",
              "    <tr>\n",
              "      <th>max</th>\n",
              "      <td>80995.000000</td>\n",
              "      <td>38970.000000</td>\n",
              "      <td>18287.000000</td>\n",
              "    </tr>\n",
              "  </tbody>\n",
              "</table>\n",
              "</div>\n",
              "      <button class=\"colab-df-convert\" onclick=\"convertToInteractive('df-c9a5374a-6da1-456e-ab8f-6ec74a3fd509')\"\n",
              "              title=\"Convert this dataframe to an interactive table.\"\n",
              "              style=\"display:none;\">\n",
              "        \n",
              "  <svg xmlns=\"http://www.w3.org/2000/svg\" height=\"24px\"viewBox=\"0 0 24 24\"\n",
              "       width=\"24px\">\n",
              "    <path d=\"M0 0h24v24H0V0z\" fill=\"none\"/>\n",
              "    <path d=\"M18.56 5.44l.94 2.06.94-2.06 2.06-.94-2.06-.94-.94-2.06-.94 2.06-2.06.94zm-11 1L8.5 8.5l.94-2.06 2.06-.94-2.06-.94L8.5 2.5l-.94 2.06-2.06.94zm10 10l.94 2.06.94-2.06 2.06-.94-2.06-.94-.94-2.06-.94 2.06-2.06.94z\"/><path d=\"M17.41 7.96l-1.37-1.37c-.4-.4-.92-.59-1.43-.59-.52 0-1.04.2-1.43.59L10.3 9.45l-7.72 7.72c-.78.78-.78 2.05 0 2.83L4 21.41c.39.39.9.59 1.41.59.51 0 1.02-.2 1.41-.59l7.78-7.78 2.81-2.81c.8-.78.8-2.07 0-2.86zM5.41 20L4 18.59l7.72-7.72 1.47 1.35L5.41 20z\"/>\n",
              "  </svg>\n",
              "      </button>\n",
              "      \n",
              "  <style>\n",
              "    .colab-df-container {\n",
              "      display:flex;\n",
              "      flex-wrap:wrap;\n",
              "      gap: 12px;\n",
              "    }\n",
              "\n",
              "    .colab-df-convert {\n",
              "      background-color: #E8F0FE;\n",
              "      border: none;\n",
              "      border-radius: 50%;\n",
              "      cursor: pointer;\n",
              "      display: none;\n",
              "      fill: #1967D2;\n",
              "      height: 32px;\n",
              "      padding: 0 0 0 0;\n",
              "      width: 32px;\n",
              "    }\n",
              "\n",
              "    .colab-df-convert:hover {\n",
              "      background-color: #E2EBFA;\n",
              "      box-shadow: 0px 1px 2px rgba(60, 64, 67, 0.3), 0px 1px 3px 1px rgba(60, 64, 67, 0.15);\n",
              "      fill: #174EA6;\n",
              "    }\n",
              "\n",
              "    [theme=dark] .colab-df-convert {\n",
              "      background-color: #3B4455;\n",
              "      fill: #D2E3FC;\n",
              "    }\n",
              "\n",
              "    [theme=dark] .colab-df-convert:hover {\n",
              "      background-color: #434B5C;\n",
              "      box-shadow: 0px 1px 3px 1px rgba(0, 0, 0, 0.15);\n",
              "      filter: drop-shadow(0px 1px 2px rgba(0, 0, 0, 0.3));\n",
              "      fill: #FFFFFF;\n",
              "    }\n",
              "  </style>\n",
              "\n",
              "      <script>\n",
              "        const buttonEl =\n",
              "          document.querySelector('#df-c9a5374a-6da1-456e-ab8f-6ec74a3fd509 button.colab-df-convert');\n",
              "        buttonEl.style.display =\n",
              "          google.colab.kernel.accessAllowed ? 'block' : 'none';\n",
              "\n",
              "        async function convertToInteractive(key) {\n",
              "          const element = document.querySelector('#df-c9a5374a-6da1-456e-ab8f-6ec74a3fd509');\n",
              "          const dataTable =\n",
              "            await google.colab.kernel.invokeFunction('convertToInteractive',\n",
              "                                                     [key], {});\n",
              "          if (!dataTable) return;\n",
              "\n",
              "          const docLinkHtml = 'Like what you see? Visit the ' +\n",
              "            '<a target=\"_blank\" href=https://colab.research.google.com/notebooks/data_table.ipynb>data table notebook</a>'\n",
              "            + ' to learn more about interactive tables.';\n",
              "          element.innerHTML = '';\n",
              "          dataTable['output_type'] = 'display_data';\n",
              "          await google.colab.output.renderOutput(dataTable, element);\n",
              "          const docLink = document.createElement('div');\n",
              "          docLink.innerHTML = docLinkHtml;\n",
              "          element.appendChild(docLink);\n",
              "        }\n",
              "      </script>\n",
              "    </div>\n",
              "  </div>\n",
              "  "
            ],
            "text/plain": [
              "            Quantity      UnitPrice     CustomerID\n",
              "count  541909.000000  541909.000000  406829.000000\n",
              "mean        9.552250       4.611114   15287.690570\n",
              "std       218.081158      96.759853    1713.600303\n",
              "min    -80995.000000  -11062.060000   12346.000000\n",
              "25%         1.000000       1.250000   13953.000000\n",
              "50%         3.000000       2.080000   15152.000000\n",
              "75%        10.000000       4.130000   16791.000000\n",
              "max     80995.000000   38970.000000   18287.000000"
            ]
          },
          "execution_count": 20,
          "metadata": {},
          "output_type": "execute_result"
        }
      ],
      "source": [
        "# deskripsi perhitungan dari dataset\n",
        "\n",
        "retail.describe()"
      ]
    },
    {
      "cell_type": "markdown",
      "metadata": {
        "id": "TTR1wJzkgCZM"
      },
      "source": [
        "# Data Cleaning"
      ]
    },
    {
      "cell_type": "code",
      "execution_count": null,
      "metadata": {
        "colab": {
          "base_uri": "https://localhost:8080/"
        },
        "id": "gh-bEChISXd8",
        "outputId": "0103b7ba-60d5-42bd-cdb4-0fc9978731f0"
      },
      "outputs": [
        {
          "data": {
            "text/plain": [
              "InvoiceNo       0.00\n",
              "StockCode       0.00\n",
              "Description     0.27\n",
              "Quantity        0.00\n",
              "InvoiceDate     0.00\n",
              "UnitPrice       0.00\n",
              "CustomerID     24.93\n",
              "Country         0.00\n",
              "dtype: float64"
            ]
          },
          "execution_count": 21,
          "metadata": {},
          "output_type": "execute_result"
        }
      ],
      "source": [
        "# menghitung banyak nilai yang hilang di dataset\n",
        "\n",
        "df_null = round(100*(retail.isnull().sum())/len(retail), 2)\n",
        "df_null"
      ]
    },
    {
      "cell_type": "code",
      "execution_count": null,
      "metadata": {
        "colab": {
          "base_uri": "https://localhost:8080/"
        },
        "id": "6L0B0ln2VGLr",
        "outputId": "a6db6211-fad8-4fb8-f88c-85183139b9a9"
      },
      "outputs": [
        {
          "data": {
            "text/plain": [
              "(406829, 8)"
            ]
          },
          "execution_count": 22,
          "metadata": {},
          "output_type": "execute_result"
        }
      ],
      "source": [
        "# menghilangkan baris yang memiliki nilai null dengan drop\n",
        "\n",
        "retail = retail.dropna()\n",
        "retail.shape"
      ]
    },
    {
      "cell_type": "code",
      "execution_count": null,
      "metadata": {
        "id": "SCN9RveuVN4P"
      },
      "outputs": [],
      "source": [
        "# mengubah kolom 'CustomerID' dari tipe int ke tipe  string\n",
        "\n",
        "retail['CustomerID'] = retail['CustomerID'].astype(str)"
      ]
    },
    {
      "cell_type": "markdown",
      "metadata": {
        "id": "qmK6Tykfgg-P"
      },
      "source": [
        "# Data Preparation"
      ]
    },
    {
      "cell_type": "code",
      "execution_count": null,
      "metadata": {
        "colab": {
          "base_uri": "https://localhost:8080/",
          "height": 206
        },
        "id": "TVy6arVBbXhv",
        "outputId": "d6ea9449-ea74-4ce5-a527-71ec946dbdd5"
      },
      "outputs": [
        {
          "data": {
            "text/html": [
              "\n",
              "  <div id=\"df-48c244e0-45bf-47cc-bb39-e0de9507f79f\">\n",
              "    <div class=\"colab-df-container\">\n",
              "      <div>\n",
              "<style scoped>\n",
              "    .dataframe tbody tr th:only-of-type {\n",
              "        vertical-align: middle;\n",
              "    }\n",
              "\n",
              "    .dataframe tbody tr th {\n",
              "        vertical-align: top;\n",
              "    }\n",
              "\n",
              "    .dataframe thead th {\n",
              "        text-align: right;\n",
              "    }\n",
              "</style>\n",
              "<table border=\"1\" class=\"dataframe\">\n",
              "  <thead>\n",
              "    <tr style=\"text-align: right;\">\n",
              "      <th></th>\n",
              "      <th>CustomerID</th>\n",
              "      <th>Amount</th>\n",
              "    </tr>\n",
              "  </thead>\n",
              "  <tbody>\n",
              "    <tr>\n",
              "      <th>0</th>\n",
              "      <td>12346.0</td>\n",
              "      <td>0.00</td>\n",
              "    </tr>\n",
              "    <tr>\n",
              "      <th>1</th>\n",
              "      <td>12347.0</td>\n",
              "      <td>4310.00</td>\n",
              "    </tr>\n",
              "    <tr>\n",
              "      <th>2</th>\n",
              "      <td>12348.0</td>\n",
              "      <td>1797.24</td>\n",
              "    </tr>\n",
              "    <tr>\n",
              "      <th>3</th>\n",
              "      <td>12349.0</td>\n",
              "      <td>1757.55</td>\n",
              "    </tr>\n",
              "    <tr>\n",
              "      <th>4</th>\n",
              "      <td>12350.0</td>\n",
              "      <td>334.40</td>\n",
              "    </tr>\n",
              "  </tbody>\n",
              "</table>\n",
              "</div>\n",
              "      <button class=\"colab-df-convert\" onclick=\"convertToInteractive('df-48c244e0-45bf-47cc-bb39-e0de9507f79f')\"\n",
              "              title=\"Convert this dataframe to an interactive table.\"\n",
              "              style=\"display:none;\">\n",
              "        \n",
              "  <svg xmlns=\"http://www.w3.org/2000/svg\" height=\"24px\"viewBox=\"0 0 24 24\"\n",
              "       width=\"24px\">\n",
              "    <path d=\"M0 0h24v24H0V0z\" fill=\"none\"/>\n",
              "    <path d=\"M18.56 5.44l.94 2.06.94-2.06 2.06-.94-2.06-.94-.94-2.06-.94 2.06-2.06.94zm-11 1L8.5 8.5l.94-2.06 2.06-.94-2.06-.94L8.5 2.5l-.94 2.06-2.06.94zm10 10l.94 2.06.94-2.06 2.06-.94-2.06-.94-.94-2.06-.94 2.06-2.06.94z\"/><path d=\"M17.41 7.96l-1.37-1.37c-.4-.4-.92-.59-1.43-.59-.52 0-1.04.2-1.43.59L10.3 9.45l-7.72 7.72c-.78.78-.78 2.05 0 2.83L4 21.41c.39.39.9.59 1.41.59.51 0 1.02-.2 1.41-.59l7.78-7.78 2.81-2.81c.8-.78.8-2.07 0-2.86zM5.41 20L4 18.59l7.72-7.72 1.47 1.35L5.41 20z\"/>\n",
              "  </svg>\n",
              "      </button>\n",
              "      \n",
              "  <style>\n",
              "    .colab-df-container {\n",
              "      display:flex;\n",
              "      flex-wrap:wrap;\n",
              "      gap: 12px;\n",
              "    }\n",
              "\n",
              "    .colab-df-convert {\n",
              "      background-color: #E8F0FE;\n",
              "      border: none;\n",
              "      border-radius: 50%;\n",
              "      cursor: pointer;\n",
              "      display: none;\n",
              "      fill: #1967D2;\n",
              "      height: 32px;\n",
              "      padding: 0 0 0 0;\n",
              "      width: 32px;\n",
              "    }\n",
              "\n",
              "    .colab-df-convert:hover {\n",
              "      background-color: #E2EBFA;\n",
              "      box-shadow: 0px 1px 2px rgba(60, 64, 67, 0.3), 0px 1px 3px 1px rgba(60, 64, 67, 0.15);\n",
              "      fill: #174EA6;\n",
              "    }\n",
              "\n",
              "    [theme=dark] .colab-df-convert {\n",
              "      background-color: #3B4455;\n",
              "      fill: #D2E3FC;\n",
              "    }\n",
              "\n",
              "    [theme=dark] .colab-df-convert:hover {\n",
              "      background-color: #434B5C;\n",
              "      box-shadow: 0px 1px 3px 1px rgba(0, 0, 0, 0.15);\n",
              "      filter: drop-shadow(0px 1px 2px rgba(0, 0, 0, 0.3));\n",
              "      fill: #FFFFFF;\n",
              "    }\n",
              "  </style>\n",
              "\n",
              "      <script>\n",
              "        const buttonEl =\n",
              "          document.querySelector('#df-48c244e0-45bf-47cc-bb39-e0de9507f79f button.colab-df-convert');\n",
              "        buttonEl.style.display =\n",
              "          google.colab.kernel.accessAllowed ? 'block' : 'none';\n",
              "\n",
              "        async function convertToInteractive(key) {\n",
              "          const element = document.querySelector('#df-48c244e0-45bf-47cc-bb39-e0de9507f79f');\n",
              "          const dataTable =\n",
              "            await google.colab.kernel.invokeFunction('convertToInteractive',\n",
              "                                                     [key], {});\n",
              "          if (!dataTable) return;\n",
              "\n",
              "          const docLinkHtml = 'Like what you see? Visit the ' +\n",
              "            '<a target=\"_blank\" href=https://colab.research.google.com/notebooks/data_table.ipynb>data table notebook</a>'\n",
              "            + ' to learn more about interactive tables.';\n",
              "          element.innerHTML = '';\n",
              "          dataTable['output_type'] = 'display_data';\n",
              "          await google.colab.output.renderOutput(dataTable, element);\n",
              "          const docLink = document.createElement('div');\n",
              "          docLink.innerHTML = docLinkHtml;\n",
              "          element.appendChild(docLink);\n",
              "        }\n",
              "      </script>\n",
              "    </div>\n",
              "  </div>\n",
              "  "
            ],
            "text/plain": [
              "  CustomerID   Amount\n",
              "0    12346.0     0.00\n",
              "1    12347.0  4310.00\n",
              "2    12348.0  1797.24\n",
              "3    12349.0  1757.55\n",
              "4    12350.0   334.40"
            ]
          },
          "execution_count": 24,
          "metadata": {},
          "output_type": "execute_result"
        }
      ],
      "source": [
        "# Merupakan pengelompokan atribut baru berupa monetary\n",
        "\n",
        "retail['Amount'] = retail['Quantity']*retail['UnitPrice']\n",
        "rfm_m = retail.groupby('CustomerID')['Amount'].sum()\n",
        "rfm_m = rfm_m.reset_index()\n",
        "rfm_m.head()"
      ]
    },
    {
      "cell_type": "code",
      "execution_count": null,
      "metadata": {
        "colab": {
          "base_uri": "https://localhost:8080/",
          "height": 206
        },
        "id": "BDRId0zrcYYl",
        "outputId": "abab6ab1-e939-474c-a482-3579fdb0bda1"
      },
      "outputs": [
        {
          "data": {
            "text/html": [
              "\n",
              "  <div id=\"df-9db07100-a048-4d38-9d2d-e07b4f440c7c\">\n",
              "    <div class=\"colab-df-container\">\n",
              "      <div>\n",
              "<style scoped>\n",
              "    .dataframe tbody tr th:only-of-type {\n",
              "        vertical-align: middle;\n",
              "    }\n",
              "\n",
              "    .dataframe tbody tr th {\n",
              "        vertical-align: top;\n",
              "    }\n",
              "\n",
              "    .dataframe thead th {\n",
              "        text-align: right;\n",
              "    }\n",
              "</style>\n",
              "<table border=\"1\" class=\"dataframe\">\n",
              "  <thead>\n",
              "    <tr style=\"text-align: right;\">\n",
              "      <th></th>\n",
              "      <th>CustomerID</th>\n",
              "      <th>Frequency</th>\n",
              "    </tr>\n",
              "  </thead>\n",
              "  <tbody>\n",
              "    <tr>\n",
              "      <th>0</th>\n",
              "      <td>12346.0</td>\n",
              "      <td>2</td>\n",
              "    </tr>\n",
              "    <tr>\n",
              "      <th>1</th>\n",
              "      <td>12347.0</td>\n",
              "      <td>182</td>\n",
              "    </tr>\n",
              "    <tr>\n",
              "      <th>2</th>\n",
              "      <td>12348.0</td>\n",
              "      <td>31</td>\n",
              "    </tr>\n",
              "    <tr>\n",
              "      <th>3</th>\n",
              "      <td>12349.0</td>\n",
              "      <td>73</td>\n",
              "    </tr>\n",
              "    <tr>\n",
              "      <th>4</th>\n",
              "      <td>12350.0</td>\n",
              "      <td>17</td>\n",
              "    </tr>\n",
              "  </tbody>\n",
              "</table>\n",
              "</div>\n",
              "      <button class=\"colab-df-convert\" onclick=\"convertToInteractive('df-9db07100-a048-4d38-9d2d-e07b4f440c7c')\"\n",
              "              title=\"Convert this dataframe to an interactive table.\"\n",
              "              style=\"display:none;\">\n",
              "        \n",
              "  <svg xmlns=\"http://www.w3.org/2000/svg\" height=\"24px\"viewBox=\"0 0 24 24\"\n",
              "       width=\"24px\">\n",
              "    <path d=\"M0 0h24v24H0V0z\" fill=\"none\"/>\n",
              "    <path d=\"M18.56 5.44l.94 2.06.94-2.06 2.06-.94-2.06-.94-.94-2.06-.94 2.06-2.06.94zm-11 1L8.5 8.5l.94-2.06 2.06-.94-2.06-.94L8.5 2.5l-.94 2.06-2.06.94zm10 10l.94 2.06.94-2.06 2.06-.94-2.06-.94-.94-2.06-.94 2.06-2.06.94z\"/><path d=\"M17.41 7.96l-1.37-1.37c-.4-.4-.92-.59-1.43-.59-.52 0-1.04.2-1.43.59L10.3 9.45l-7.72 7.72c-.78.78-.78 2.05 0 2.83L4 21.41c.39.39.9.59 1.41.59.51 0 1.02-.2 1.41-.59l7.78-7.78 2.81-2.81c.8-.78.8-2.07 0-2.86zM5.41 20L4 18.59l7.72-7.72 1.47 1.35L5.41 20z\"/>\n",
              "  </svg>\n",
              "      </button>\n",
              "      \n",
              "  <style>\n",
              "    .colab-df-container {\n",
              "      display:flex;\n",
              "      flex-wrap:wrap;\n",
              "      gap: 12px;\n",
              "    }\n",
              "\n",
              "    .colab-df-convert {\n",
              "      background-color: #E8F0FE;\n",
              "      border: none;\n",
              "      border-radius: 50%;\n",
              "      cursor: pointer;\n",
              "      display: none;\n",
              "      fill: #1967D2;\n",
              "      height: 32px;\n",
              "      padding: 0 0 0 0;\n",
              "      width: 32px;\n",
              "    }\n",
              "\n",
              "    .colab-df-convert:hover {\n",
              "      background-color: #E2EBFA;\n",
              "      box-shadow: 0px 1px 2px rgba(60, 64, 67, 0.3), 0px 1px 3px 1px rgba(60, 64, 67, 0.15);\n",
              "      fill: #174EA6;\n",
              "    }\n",
              "\n",
              "    [theme=dark] .colab-df-convert {\n",
              "      background-color: #3B4455;\n",
              "      fill: #D2E3FC;\n",
              "    }\n",
              "\n",
              "    [theme=dark] .colab-df-convert:hover {\n",
              "      background-color: #434B5C;\n",
              "      box-shadow: 0px 1px 3px 1px rgba(0, 0, 0, 0.15);\n",
              "      filter: drop-shadow(0px 1px 2px rgba(0, 0, 0, 0.3));\n",
              "      fill: #FFFFFF;\n",
              "    }\n",
              "  </style>\n",
              "\n",
              "      <script>\n",
              "        const buttonEl =\n",
              "          document.querySelector('#df-9db07100-a048-4d38-9d2d-e07b4f440c7c button.colab-df-convert');\n",
              "        buttonEl.style.display =\n",
              "          google.colab.kernel.accessAllowed ? 'block' : 'none';\n",
              "\n",
              "        async function convertToInteractive(key) {\n",
              "          const element = document.querySelector('#df-9db07100-a048-4d38-9d2d-e07b4f440c7c');\n",
              "          const dataTable =\n",
              "            await google.colab.kernel.invokeFunction('convertToInteractive',\n",
              "                                                     [key], {});\n",
              "          if (!dataTable) return;\n",
              "\n",
              "          const docLinkHtml = 'Like what you see? Visit the ' +\n",
              "            '<a target=\"_blank\" href=https://colab.research.google.com/notebooks/data_table.ipynb>data table notebook</a>'\n",
              "            + ' to learn more about interactive tables.';\n",
              "          element.innerHTML = '';\n",
              "          dataTable['output_type'] = 'display_data';\n",
              "          await google.colab.output.renderOutput(dataTable, element);\n",
              "          const docLink = document.createElement('div');\n",
              "          docLink.innerHTML = docLinkHtml;\n",
              "          element.appendChild(docLink);\n",
              "        }\n",
              "      </script>\n",
              "    </div>\n",
              "  </div>\n",
              "  "
            ],
            "text/plain": [
              "  CustomerID  Frequency\n",
              "0    12346.0          2\n",
              "1    12347.0        182\n",
              "2    12348.0         31\n",
              "3    12349.0         73\n",
              "4    12350.0         17"
            ]
          },
          "execution_count": 25,
          "metadata": {},
          "output_type": "execute_result"
        }
      ],
      "source": [
        "# Pengelompokan atribut baru berupa Frequency\n",
        "\n",
        "rfm_f = retail.groupby('CustomerID')['InvoiceNo'].count()\n",
        "rfm_f = rfm_f.reset_index()\n",
        "rfm_f.columns = ['CustomerID', 'Frequency']\n",
        "rfm_f.head()"
      ]
    },
    {
      "cell_type": "code",
      "execution_count": null,
      "metadata": {
        "colab": {
          "base_uri": "https://localhost:8080/",
          "height": 206
        },
        "id": "-O1-gW58ccr5",
        "outputId": "85a6a0bb-25ca-47f7-e783-ecf9a5721fa4"
      },
      "outputs": [
        {
          "data": {
            "text/html": [
              "\n",
              "  <div id=\"df-9e2fce37-219e-4e86-9993-fcaad3e0fe2c\">\n",
              "    <div class=\"colab-df-container\">\n",
              "      <div>\n",
              "<style scoped>\n",
              "    .dataframe tbody tr th:only-of-type {\n",
              "        vertical-align: middle;\n",
              "    }\n",
              "\n",
              "    .dataframe tbody tr th {\n",
              "        vertical-align: top;\n",
              "    }\n",
              "\n",
              "    .dataframe thead th {\n",
              "        text-align: right;\n",
              "    }\n",
              "</style>\n",
              "<table border=\"1\" class=\"dataframe\">\n",
              "  <thead>\n",
              "    <tr style=\"text-align: right;\">\n",
              "      <th></th>\n",
              "      <th>CustomerID</th>\n",
              "      <th>Amount</th>\n",
              "      <th>Frequency</th>\n",
              "    </tr>\n",
              "  </thead>\n",
              "  <tbody>\n",
              "    <tr>\n",
              "      <th>0</th>\n",
              "      <td>12346.0</td>\n",
              "      <td>0.00</td>\n",
              "      <td>2</td>\n",
              "    </tr>\n",
              "    <tr>\n",
              "      <th>1</th>\n",
              "      <td>12347.0</td>\n",
              "      <td>4310.00</td>\n",
              "      <td>182</td>\n",
              "    </tr>\n",
              "    <tr>\n",
              "      <th>2</th>\n",
              "      <td>12348.0</td>\n",
              "      <td>1797.24</td>\n",
              "      <td>31</td>\n",
              "    </tr>\n",
              "    <tr>\n",
              "      <th>3</th>\n",
              "      <td>12349.0</td>\n",
              "      <td>1757.55</td>\n",
              "      <td>73</td>\n",
              "    </tr>\n",
              "    <tr>\n",
              "      <th>4</th>\n",
              "      <td>12350.0</td>\n",
              "      <td>334.40</td>\n",
              "      <td>17</td>\n",
              "    </tr>\n",
              "  </tbody>\n",
              "</table>\n",
              "</div>\n",
              "      <button class=\"colab-df-convert\" onclick=\"convertToInteractive('df-9e2fce37-219e-4e86-9993-fcaad3e0fe2c')\"\n",
              "              title=\"Convert this dataframe to an interactive table.\"\n",
              "              style=\"display:none;\">\n",
              "        \n",
              "  <svg xmlns=\"http://www.w3.org/2000/svg\" height=\"24px\"viewBox=\"0 0 24 24\"\n",
              "       width=\"24px\">\n",
              "    <path d=\"M0 0h24v24H0V0z\" fill=\"none\"/>\n",
              "    <path d=\"M18.56 5.44l.94 2.06.94-2.06 2.06-.94-2.06-.94-.94-2.06-.94 2.06-2.06.94zm-11 1L8.5 8.5l.94-2.06 2.06-.94-2.06-.94L8.5 2.5l-.94 2.06-2.06.94zm10 10l.94 2.06.94-2.06 2.06-.94-2.06-.94-.94-2.06-.94 2.06-2.06.94z\"/><path d=\"M17.41 7.96l-1.37-1.37c-.4-.4-.92-.59-1.43-.59-.52 0-1.04.2-1.43.59L10.3 9.45l-7.72 7.72c-.78.78-.78 2.05 0 2.83L4 21.41c.39.39.9.59 1.41.59.51 0 1.02-.2 1.41-.59l7.78-7.78 2.81-2.81c.8-.78.8-2.07 0-2.86zM5.41 20L4 18.59l7.72-7.72 1.47 1.35L5.41 20z\"/>\n",
              "  </svg>\n",
              "      </button>\n",
              "      \n",
              "  <style>\n",
              "    .colab-df-container {\n",
              "      display:flex;\n",
              "      flex-wrap:wrap;\n",
              "      gap: 12px;\n",
              "    }\n",
              "\n",
              "    .colab-df-convert {\n",
              "      background-color: #E8F0FE;\n",
              "      border: none;\n",
              "      border-radius: 50%;\n",
              "      cursor: pointer;\n",
              "      display: none;\n",
              "      fill: #1967D2;\n",
              "      height: 32px;\n",
              "      padding: 0 0 0 0;\n",
              "      width: 32px;\n",
              "    }\n",
              "\n",
              "    .colab-df-convert:hover {\n",
              "      background-color: #E2EBFA;\n",
              "      box-shadow: 0px 1px 2px rgba(60, 64, 67, 0.3), 0px 1px 3px 1px rgba(60, 64, 67, 0.15);\n",
              "      fill: #174EA6;\n",
              "    }\n",
              "\n",
              "    [theme=dark] .colab-df-convert {\n",
              "      background-color: #3B4455;\n",
              "      fill: #D2E3FC;\n",
              "    }\n",
              "\n",
              "    [theme=dark] .colab-df-convert:hover {\n",
              "      background-color: #434B5C;\n",
              "      box-shadow: 0px 1px 3px 1px rgba(0, 0, 0, 0.15);\n",
              "      filter: drop-shadow(0px 1px 2px rgba(0, 0, 0, 0.3));\n",
              "      fill: #FFFFFF;\n",
              "    }\n",
              "  </style>\n",
              "\n",
              "      <script>\n",
              "        const buttonEl =\n",
              "          document.querySelector('#df-9e2fce37-219e-4e86-9993-fcaad3e0fe2c button.colab-df-convert');\n",
              "        buttonEl.style.display =\n",
              "          google.colab.kernel.accessAllowed ? 'block' : 'none';\n",
              "\n",
              "        async function convertToInteractive(key) {\n",
              "          const element = document.querySelector('#df-9e2fce37-219e-4e86-9993-fcaad3e0fe2c');\n",
              "          const dataTable =\n",
              "            await google.colab.kernel.invokeFunction('convertToInteractive',\n",
              "                                                     [key], {});\n",
              "          if (!dataTable) return;\n",
              "\n",
              "          const docLinkHtml = 'Like what you see? Visit the ' +\n",
              "            '<a target=\"_blank\" href=https://colab.research.google.com/notebooks/data_table.ipynb>data table notebook</a>'\n",
              "            + ' to learn more about interactive tables.';\n",
              "          element.innerHTML = '';\n",
              "          dataTable['output_type'] = 'display_data';\n",
              "          await google.colab.output.renderOutput(dataTable, element);\n",
              "          const docLink = document.createElement('div');\n",
              "          docLink.innerHTML = docLinkHtml;\n",
              "          element.appendChild(docLink);\n",
              "        }\n",
              "      </script>\n",
              "    </div>\n",
              "  </div>\n",
              "  "
            ],
            "text/plain": [
              "  CustomerID   Amount  Frequency\n",
              "0    12346.0     0.00          2\n",
              "1    12347.0  4310.00        182\n",
              "2    12348.0  1797.24         31\n",
              "3    12349.0  1757.55         73\n",
              "4    12350.0   334.40         17"
            ]
          },
          "execution_count": 26,
          "metadata": {},
          "output_type": "execute_result"
        }
      ],
      "source": [
        "# Penggabungan 2 kolom Amount dan Frequency\n",
        "\n",
        "rfm = pd.merge(rfm_m, rfm_f, on='CustomerID', how='inner')\n",
        "rfm.head()"
      ]
    },
    {
      "cell_type": "code",
      "execution_count": null,
      "metadata": {
        "id": "sxm6oRg_cgLy"
      },
      "outputs": [],
      "source": [
        "# Atribut baru yaitu Recency\n",
        "# Diambil dari kolom 'InvoiceDate' lalu diubah datatype-nya agar dapat di olah\n",
        "\n",
        "retail['InvoiceDate'] = pd.to_datetime(retail['InvoiceDate'],format='%d-%m-%Y %H:%M')"
      ]
    },
    {
      "cell_type": "code",
      "execution_count": null,
      "metadata": {
        "colab": {
          "base_uri": "https://localhost:8080/"
        },
        "id": "x8w4s5wFcozy",
        "outputId": "5e920474-4afe-4741-ba8b-db6096f42f36"
      },
      "outputs": [
        {
          "data": {
            "text/plain": [
              "Timestamp('2011-12-09 12:50:00')"
            ]
          },
          "execution_count": 28,
          "metadata": {},
          "output_type": "execute_result"
        }
      ],
      "source": [
        "# Penghitungan tanggal maksimal untuk mengetahui tanggal transaksi terakhir\n",
        "\n",
        "max_date = max(retail['InvoiceDate'])\n",
        "max_date"
      ]
    },
    {
      "cell_type": "code",
      "execution_count": null,
      "metadata": {
        "colab": {
          "base_uri": "https://localhost:8080/",
          "height": 206
        },
        "id": "y10ve9t9cuHo",
        "outputId": "2127b30e-8d06-4093-d17e-6d7e99d3233c"
      },
      "outputs": [
        {
          "data": {
            "text/html": [
              "\n",
              "  <div id=\"df-9142e0c9-9c98-4b25-bffe-1591b74641de\">\n",
              "    <div class=\"colab-df-container\">\n",
              "      <div>\n",
              "<style scoped>\n",
              "    .dataframe tbody tr th:only-of-type {\n",
              "        vertical-align: middle;\n",
              "    }\n",
              "\n",
              "    .dataframe tbody tr th {\n",
              "        vertical-align: top;\n",
              "    }\n",
              "\n",
              "    .dataframe thead th {\n",
              "        text-align: right;\n",
              "    }\n",
              "</style>\n",
              "<table border=\"1\" class=\"dataframe\">\n",
              "  <thead>\n",
              "    <tr style=\"text-align: right;\">\n",
              "      <th></th>\n",
              "      <th>InvoiceNo</th>\n",
              "      <th>StockCode</th>\n",
              "      <th>Description</th>\n",
              "      <th>Quantity</th>\n",
              "      <th>InvoiceDate</th>\n",
              "      <th>UnitPrice</th>\n",
              "      <th>CustomerID</th>\n",
              "      <th>Country</th>\n",
              "      <th>Amount</th>\n",
              "      <th>Diff</th>\n",
              "    </tr>\n",
              "  </thead>\n",
              "  <tbody>\n",
              "    <tr>\n",
              "      <th>0</th>\n",
              "      <td>536365</td>\n",
              "      <td>85123A</td>\n",
              "      <td>WHITE HANGING HEART T-LIGHT HOLDER</td>\n",
              "      <td>6</td>\n",
              "      <td>2010-12-01 08:26:00</td>\n",
              "      <td>2.55</td>\n",
              "      <td>17850.0</td>\n",
              "      <td>United Kingdom</td>\n",
              "      <td>15.30</td>\n",
              "      <td>373 days 04:24:00</td>\n",
              "    </tr>\n",
              "    <tr>\n",
              "      <th>1</th>\n",
              "      <td>536365</td>\n",
              "      <td>71053</td>\n",
              "      <td>WHITE METAL LANTERN</td>\n",
              "      <td>6</td>\n",
              "      <td>2010-12-01 08:26:00</td>\n",
              "      <td>3.39</td>\n",
              "      <td>17850.0</td>\n",
              "      <td>United Kingdom</td>\n",
              "      <td>20.34</td>\n",
              "      <td>373 days 04:24:00</td>\n",
              "    </tr>\n",
              "    <tr>\n",
              "      <th>2</th>\n",
              "      <td>536365</td>\n",
              "      <td>84406B</td>\n",
              "      <td>CREAM CUPID HEARTS COAT HANGER</td>\n",
              "      <td>8</td>\n",
              "      <td>2010-12-01 08:26:00</td>\n",
              "      <td>2.75</td>\n",
              "      <td>17850.0</td>\n",
              "      <td>United Kingdom</td>\n",
              "      <td>22.00</td>\n",
              "      <td>373 days 04:24:00</td>\n",
              "    </tr>\n",
              "    <tr>\n",
              "      <th>3</th>\n",
              "      <td>536365</td>\n",
              "      <td>84029G</td>\n",
              "      <td>KNITTED UNION FLAG HOT WATER BOTTLE</td>\n",
              "      <td>6</td>\n",
              "      <td>2010-12-01 08:26:00</td>\n",
              "      <td>3.39</td>\n",
              "      <td>17850.0</td>\n",
              "      <td>United Kingdom</td>\n",
              "      <td>20.34</td>\n",
              "      <td>373 days 04:24:00</td>\n",
              "    </tr>\n",
              "    <tr>\n",
              "      <th>4</th>\n",
              "      <td>536365</td>\n",
              "      <td>84029E</td>\n",
              "      <td>RED WOOLLY HOTTIE WHITE HEART.</td>\n",
              "      <td>6</td>\n",
              "      <td>2010-12-01 08:26:00</td>\n",
              "      <td>3.39</td>\n",
              "      <td>17850.0</td>\n",
              "      <td>United Kingdom</td>\n",
              "      <td>20.34</td>\n",
              "      <td>373 days 04:24:00</td>\n",
              "    </tr>\n",
              "  </tbody>\n",
              "</table>\n",
              "</div>\n",
              "      <button class=\"colab-df-convert\" onclick=\"convertToInteractive('df-9142e0c9-9c98-4b25-bffe-1591b74641de')\"\n",
              "              title=\"Convert this dataframe to an interactive table.\"\n",
              "              style=\"display:none;\">\n",
              "        \n",
              "  <svg xmlns=\"http://www.w3.org/2000/svg\" height=\"24px\"viewBox=\"0 0 24 24\"\n",
              "       width=\"24px\">\n",
              "    <path d=\"M0 0h24v24H0V0z\" fill=\"none\"/>\n",
              "    <path d=\"M18.56 5.44l.94 2.06.94-2.06 2.06-.94-2.06-.94-.94-2.06-.94 2.06-2.06.94zm-11 1L8.5 8.5l.94-2.06 2.06-.94-2.06-.94L8.5 2.5l-.94 2.06-2.06.94zm10 10l.94 2.06.94-2.06 2.06-.94-2.06-.94-.94-2.06-.94 2.06-2.06.94z\"/><path d=\"M17.41 7.96l-1.37-1.37c-.4-.4-.92-.59-1.43-.59-.52 0-1.04.2-1.43.59L10.3 9.45l-7.72 7.72c-.78.78-.78 2.05 0 2.83L4 21.41c.39.39.9.59 1.41.59.51 0 1.02-.2 1.41-.59l7.78-7.78 2.81-2.81c.8-.78.8-2.07 0-2.86zM5.41 20L4 18.59l7.72-7.72 1.47 1.35L5.41 20z\"/>\n",
              "  </svg>\n",
              "      </button>\n",
              "      \n",
              "  <style>\n",
              "    .colab-df-container {\n",
              "      display:flex;\n",
              "      flex-wrap:wrap;\n",
              "      gap: 12px;\n",
              "    }\n",
              "\n",
              "    .colab-df-convert {\n",
              "      background-color: #E8F0FE;\n",
              "      border: none;\n",
              "      border-radius: 50%;\n",
              "      cursor: pointer;\n",
              "      display: none;\n",
              "      fill: #1967D2;\n",
              "      height: 32px;\n",
              "      padding: 0 0 0 0;\n",
              "      width: 32px;\n",
              "    }\n",
              "\n",
              "    .colab-df-convert:hover {\n",
              "      background-color: #E2EBFA;\n",
              "      box-shadow: 0px 1px 2px rgba(60, 64, 67, 0.3), 0px 1px 3px 1px rgba(60, 64, 67, 0.15);\n",
              "      fill: #174EA6;\n",
              "    }\n",
              "\n",
              "    [theme=dark] .colab-df-convert {\n",
              "      background-color: #3B4455;\n",
              "      fill: #D2E3FC;\n",
              "    }\n",
              "\n",
              "    [theme=dark] .colab-df-convert:hover {\n",
              "      background-color: #434B5C;\n",
              "      box-shadow: 0px 1px 3px 1px rgba(0, 0, 0, 0.15);\n",
              "      filter: drop-shadow(0px 1px 2px rgba(0, 0, 0, 0.3));\n",
              "      fill: #FFFFFF;\n",
              "    }\n",
              "  </style>\n",
              "\n",
              "      <script>\n",
              "        const buttonEl =\n",
              "          document.querySelector('#df-9142e0c9-9c98-4b25-bffe-1591b74641de button.colab-df-convert');\n",
              "        buttonEl.style.display =\n",
              "          google.colab.kernel.accessAllowed ? 'block' : 'none';\n",
              "\n",
              "        async function convertToInteractive(key) {\n",
              "          const element = document.querySelector('#df-9142e0c9-9c98-4b25-bffe-1591b74641de');\n",
              "          const dataTable =\n",
              "            await google.colab.kernel.invokeFunction('convertToInteractive',\n",
              "                                                     [key], {});\n",
              "          if (!dataTable) return;\n",
              "\n",
              "          const docLinkHtml = 'Like what you see? Visit the ' +\n",
              "            '<a target=\"_blank\" href=https://colab.research.google.com/notebooks/data_table.ipynb>data table notebook</a>'\n",
              "            + ' to learn more about interactive tables.';\n",
              "          element.innerHTML = '';\n",
              "          dataTable['output_type'] = 'display_data';\n",
              "          await google.colab.output.renderOutput(dataTable, element);\n",
              "          const docLink = document.createElement('div');\n",
              "          docLink.innerHTML = docLinkHtml;\n",
              "          element.appendChild(docLink);\n",
              "        }\n",
              "      </script>\n",
              "    </div>\n",
              "  </div>\n",
              "  "
            ],
            "text/plain": [
              "  InvoiceNo StockCode                          Description  Quantity  \\\n",
              "0    536365    85123A   WHITE HANGING HEART T-LIGHT HOLDER         6   \n",
              "1    536365     71053                  WHITE METAL LANTERN         6   \n",
              "2    536365    84406B       CREAM CUPID HEARTS COAT HANGER         8   \n",
              "3    536365    84029G  KNITTED UNION FLAG HOT WATER BOTTLE         6   \n",
              "4    536365    84029E       RED WOOLLY HOTTIE WHITE HEART.         6   \n",
              "\n",
              "          InvoiceDate  UnitPrice CustomerID         Country  Amount  \\\n",
              "0 2010-12-01 08:26:00       2.55    17850.0  United Kingdom   15.30   \n",
              "1 2010-12-01 08:26:00       3.39    17850.0  United Kingdom   20.34   \n",
              "2 2010-12-01 08:26:00       2.75    17850.0  United Kingdom   22.00   \n",
              "3 2010-12-01 08:26:00       3.39    17850.0  United Kingdom   20.34   \n",
              "4 2010-12-01 08:26:00       3.39    17850.0  United Kingdom   20.34   \n",
              "\n",
              "               Diff  \n",
              "0 373 days 04:24:00  \n",
              "1 373 days 04:24:00  \n",
              "2 373 days 04:24:00  \n",
              "3 373 days 04:24:00  \n",
              "4 373 days 04:24:00  "
            ]
          },
          "execution_count": 29,
          "metadata": {},
          "output_type": "execute_result"
        }
      ],
      "source": [
        "# Atribut baru untuk menampung penghitungan dari max date dengan transaction date untuk mencari perbedaannya\n",
        "\n",
        "retail['Diff'] = max_date - retail['InvoiceDate']\n",
        "retail.head()"
      ]
    },
    {
      "cell_type": "code",
      "execution_count": null,
      "metadata": {
        "colab": {
          "base_uri": "https://localhost:8080/",
          "height": 206
        },
        "id": "5Y48IqKHczD5",
        "outputId": "3d8c7953-c3b2-4755-cc19-73f495d14a63"
      },
      "outputs": [
        {
          "data": {
            "text/html": [
              "\n",
              "  <div id=\"df-eb5579a3-43e1-4901-a50a-9d1496bd6e0e\">\n",
              "    <div class=\"colab-df-container\">\n",
              "      <div>\n",
              "<style scoped>\n",
              "    .dataframe tbody tr th:only-of-type {\n",
              "        vertical-align: middle;\n",
              "    }\n",
              "\n",
              "    .dataframe tbody tr th {\n",
              "        vertical-align: top;\n",
              "    }\n",
              "\n",
              "    .dataframe thead th {\n",
              "        text-align: right;\n",
              "    }\n",
              "</style>\n",
              "<table border=\"1\" class=\"dataframe\">\n",
              "  <thead>\n",
              "    <tr style=\"text-align: right;\">\n",
              "      <th></th>\n",
              "      <th>CustomerID</th>\n",
              "      <th>Diff</th>\n",
              "    </tr>\n",
              "  </thead>\n",
              "  <tbody>\n",
              "    <tr>\n",
              "      <th>0</th>\n",
              "      <td>12346.0</td>\n",
              "      <td>325 days 02:33:00</td>\n",
              "    </tr>\n",
              "    <tr>\n",
              "      <th>1</th>\n",
              "      <td>12347.0</td>\n",
              "      <td>1 days 20:58:00</td>\n",
              "    </tr>\n",
              "    <tr>\n",
              "      <th>2</th>\n",
              "      <td>12348.0</td>\n",
              "      <td>74 days 23:37:00</td>\n",
              "    </tr>\n",
              "    <tr>\n",
              "      <th>3</th>\n",
              "      <td>12349.0</td>\n",
              "      <td>18 days 02:59:00</td>\n",
              "    </tr>\n",
              "    <tr>\n",
              "      <th>4</th>\n",
              "      <td>12350.0</td>\n",
              "      <td>309 days 20:49:00</td>\n",
              "    </tr>\n",
              "  </tbody>\n",
              "</table>\n",
              "</div>\n",
              "      <button class=\"colab-df-convert\" onclick=\"convertToInteractive('df-eb5579a3-43e1-4901-a50a-9d1496bd6e0e')\"\n",
              "              title=\"Convert this dataframe to an interactive table.\"\n",
              "              style=\"display:none;\">\n",
              "        \n",
              "  <svg xmlns=\"http://www.w3.org/2000/svg\" height=\"24px\"viewBox=\"0 0 24 24\"\n",
              "       width=\"24px\">\n",
              "    <path d=\"M0 0h24v24H0V0z\" fill=\"none\"/>\n",
              "    <path d=\"M18.56 5.44l.94 2.06.94-2.06 2.06-.94-2.06-.94-.94-2.06-.94 2.06-2.06.94zm-11 1L8.5 8.5l.94-2.06 2.06-.94-2.06-.94L8.5 2.5l-.94 2.06-2.06.94zm10 10l.94 2.06.94-2.06 2.06-.94-2.06-.94-.94-2.06-.94 2.06-2.06.94z\"/><path d=\"M17.41 7.96l-1.37-1.37c-.4-.4-.92-.59-1.43-.59-.52 0-1.04.2-1.43.59L10.3 9.45l-7.72 7.72c-.78.78-.78 2.05 0 2.83L4 21.41c.39.39.9.59 1.41.59.51 0 1.02-.2 1.41-.59l7.78-7.78 2.81-2.81c.8-.78.8-2.07 0-2.86zM5.41 20L4 18.59l7.72-7.72 1.47 1.35L5.41 20z\"/>\n",
              "  </svg>\n",
              "      </button>\n",
              "      \n",
              "  <style>\n",
              "    .colab-df-container {\n",
              "      display:flex;\n",
              "      flex-wrap:wrap;\n",
              "      gap: 12px;\n",
              "    }\n",
              "\n",
              "    .colab-df-convert {\n",
              "      background-color: #E8F0FE;\n",
              "      border: none;\n",
              "      border-radius: 50%;\n",
              "      cursor: pointer;\n",
              "      display: none;\n",
              "      fill: #1967D2;\n",
              "      height: 32px;\n",
              "      padding: 0 0 0 0;\n",
              "      width: 32px;\n",
              "    }\n",
              "\n",
              "    .colab-df-convert:hover {\n",
              "      background-color: #E2EBFA;\n",
              "      box-shadow: 0px 1px 2px rgba(60, 64, 67, 0.3), 0px 1px 3px 1px rgba(60, 64, 67, 0.15);\n",
              "      fill: #174EA6;\n",
              "    }\n",
              "\n",
              "    [theme=dark] .colab-df-convert {\n",
              "      background-color: #3B4455;\n",
              "      fill: #D2E3FC;\n",
              "    }\n",
              "\n",
              "    [theme=dark] .colab-df-convert:hover {\n",
              "      background-color: #434B5C;\n",
              "      box-shadow: 0px 1px 3px 1px rgba(0, 0, 0, 0.15);\n",
              "      filter: drop-shadow(0px 1px 2px rgba(0, 0, 0, 0.3));\n",
              "      fill: #FFFFFF;\n",
              "    }\n",
              "  </style>\n",
              "\n",
              "      <script>\n",
              "        const buttonEl =\n",
              "          document.querySelector('#df-eb5579a3-43e1-4901-a50a-9d1496bd6e0e button.colab-df-convert');\n",
              "        buttonEl.style.display =\n",
              "          google.colab.kernel.accessAllowed ? 'block' : 'none';\n",
              "\n",
              "        async function convertToInteractive(key) {\n",
              "          const element = document.querySelector('#df-eb5579a3-43e1-4901-a50a-9d1496bd6e0e');\n",
              "          const dataTable =\n",
              "            await google.colab.kernel.invokeFunction('convertToInteractive',\n",
              "                                                     [key], {});\n",
              "          if (!dataTable) return;\n",
              "\n",
              "          const docLinkHtml = 'Like what you see? Visit the ' +\n",
              "            '<a target=\"_blank\" href=https://colab.research.google.com/notebooks/data_table.ipynb>data table notebook</a>'\n",
              "            + ' to learn more about interactive tables.';\n",
              "          element.innerHTML = '';\n",
              "          dataTable['output_type'] = 'display_data';\n",
              "          await google.colab.output.renderOutput(dataTable, element);\n",
              "          const docLink = document.createElement('div');\n",
              "          docLink.innerHTML = docLinkHtml;\n",
              "          element.appendChild(docLink);\n",
              "        }\n",
              "      </script>\n",
              "    </div>\n",
              "  </div>\n",
              "  "
            ],
            "text/plain": [
              "  CustomerID              Diff\n",
              "0    12346.0 325 days 02:33:00\n",
              "1    12347.0   1 days 20:58:00\n",
              "2    12348.0  74 days 23:37:00\n",
              "3    12349.0  18 days 02:59:00\n",
              "4    12350.0 309 days 20:49:00"
            ]
          },
          "execution_count": 30,
          "metadata": {},
          "output_type": "execute_result"
        }
      ],
      "source": [
        "# Penghitungan atribut recency dengan perbedaan tanggal untuk mengetahui pelanggan baru\n",
        "\n",
        "rfm_p = retail.groupby('CustomerID')['Diff'].min()\n",
        "rfm_p = rfm_p.reset_index()\n",
        "rfm_p.head()"
      ]
    },
    {
      "cell_type": "code",
      "execution_count": null,
      "metadata": {
        "colab": {
          "base_uri": "https://localhost:8080/",
          "height": 206
        },
        "id": "FaSDFfD9c0ka",
        "outputId": "4c5290f6-07aa-4260-adcb-5e3b1602dc72"
      },
      "outputs": [
        {
          "data": {
            "text/html": [
              "\n",
              "  <div id=\"df-4de9b3ba-ce75-4a83-a134-c09cd5d33d46\">\n",
              "    <div class=\"colab-df-container\">\n",
              "      <div>\n",
              "<style scoped>\n",
              "    .dataframe tbody tr th:only-of-type {\n",
              "        vertical-align: middle;\n",
              "    }\n",
              "\n",
              "    .dataframe tbody tr th {\n",
              "        vertical-align: top;\n",
              "    }\n",
              "\n",
              "    .dataframe thead th {\n",
              "        text-align: right;\n",
              "    }\n",
              "</style>\n",
              "<table border=\"1\" class=\"dataframe\">\n",
              "  <thead>\n",
              "    <tr style=\"text-align: right;\">\n",
              "      <th></th>\n",
              "      <th>CustomerID</th>\n",
              "      <th>Diff</th>\n",
              "    </tr>\n",
              "  </thead>\n",
              "  <tbody>\n",
              "    <tr>\n",
              "      <th>0</th>\n",
              "      <td>12346.0</td>\n",
              "      <td>325</td>\n",
              "    </tr>\n",
              "    <tr>\n",
              "      <th>1</th>\n",
              "      <td>12347.0</td>\n",
              "      <td>1</td>\n",
              "    </tr>\n",
              "    <tr>\n",
              "      <th>2</th>\n",
              "      <td>12348.0</td>\n",
              "      <td>74</td>\n",
              "    </tr>\n",
              "    <tr>\n",
              "      <th>3</th>\n",
              "      <td>12349.0</td>\n",
              "      <td>18</td>\n",
              "    </tr>\n",
              "    <tr>\n",
              "      <th>4</th>\n",
              "      <td>12350.0</td>\n",
              "      <td>309</td>\n",
              "    </tr>\n",
              "  </tbody>\n",
              "</table>\n",
              "</div>\n",
              "      <button class=\"colab-df-convert\" onclick=\"convertToInteractive('df-4de9b3ba-ce75-4a83-a134-c09cd5d33d46')\"\n",
              "              title=\"Convert this dataframe to an interactive table.\"\n",
              "              style=\"display:none;\">\n",
              "        \n",
              "  <svg xmlns=\"http://www.w3.org/2000/svg\" height=\"24px\"viewBox=\"0 0 24 24\"\n",
              "       width=\"24px\">\n",
              "    <path d=\"M0 0h24v24H0V0z\" fill=\"none\"/>\n",
              "    <path d=\"M18.56 5.44l.94 2.06.94-2.06 2.06-.94-2.06-.94-.94-2.06-.94 2.06-2.06.94zm-11 1L8.5 8.5l.94-2.06 2.06-.94-2.06-.94L8.5 2.5l-.94 2.06-2.06.94zm10 10l.94 2.06.94-2.06 2.06-.94-2.06-.94-.94-2.06-.94 2.06-2.06.94z\"/><path d=\"M17.41 7.96l-1.37-1.37c-.4-.4-.92-.59-1.43-.59-.52 0-1.04.2-1.43.59L10.3 9.45l-7.72 7.72c-.78.78-.78 2.05 0 2.83L4 21.41c.39.39.9.59 1.41.59.51 0 1.02-.2 1.41-.59l7.78-7.78 2.81-2.81c.8-.78.8-2.07 0-2.86zM5.41 20L4 18.59l7.72-7.72 1.47 1.35L5.41 20z\"/>\n",
              "  </svg>\n",
              "      </button>\n",
              "      \n",
              "  <style>\n",
              "    .colab-df-container {\n",
              "      display:flex;\n",
              "      flex-wrap:wrap;\n",
              "      gap: 12px;\n",
              "    }\n",
              "\n",
              "    .colab-df-convert {\n",
              "      background-color: #E8F0FE;\n",
              "      border: none;\n",
              "      border-radius: 50%;\n",
              "      cursor: pointer;\n",
              "      display: none;\n",
              "      fill: #1967D2;\n",
              "      height: 32px;\n",
              "      padding: 0 0 0 0;\n",
              "      width: 32px;\n",
              "    }\n",
              "\n",
              "    .colab-df-convert:hover {\n",
              "      background-color: #E2EBFA;\n",
              "      box-shadow: 0px 1px 2px rgba(60, 64, 67, 0.3), 0px 1px 3px 1px rgba(60, 64, 67, 0.15);\n",
              "      fill: #174EA6;\n",
              "    }\n",
              "\n",
              "    [theme=dark] .colab-df-convert {\n",
              "      background-color: #3B4455;\n",
              "      fill: #D2E3FC;\n",
              "    }\n",
              "\n",
              "    [theme=dark] .colab-df-convert:hover {\n",
              "      background-color: #434B5C;\n",
              "      box-shadow: 0px 1px 3px 1px rgba(0, 0, 0, 0.15);\n",
              "      filter: drop-shadow(0px 1px 2px rgba(0, 0, 0, 0.3));\n",
              "      fill: #FFFFFF;\n",
              "    }\n",
              "  </style>\n",
              "\n",
              "      <script>\n",
              "        const buttonEl =\n",
              "          document.querySelector('#df-4de9b3ba-ce75-4a83-a134-c09cd5d33d46 button.colab-df-convert');\n",
              "        buttonEl.style.display =\n",
              "          google.colab.kernel.accessAllowed ? 'block' : 'none';\n",
              "\n",
              "        async function convertToInteractive(key) {\n",
              "          const element = document.querySelector('#df-4de9b3ba-ce75-4a83-a134-c09cd5d33d46');\n",
              "          const dataTable =\n",
              "            await google.colab.kernel.invokeFunction('convertToInteractive',\n",
              "                                                     [key], {});\n",
              "          if (!dataTable) return;\n",
              "\n",
              "          const docLinkHtml = 'Like what you see? Visit the ' +\n",
              "            '<a target=\"_blank\" href=https://colab.research.google.com/notebooks/data_table.ipynb>data table notebook</a>'\n",
              "            + ' to learn more about interactive tables.';\n",
              "          element.innerHTML = '';\n",
              "          dataTable['output_type'] = 'display_data';\n",
              "          await google.colab.output.renderOutput(dataTable, element);\n",
              "          const docLink = document.createElement('div');\n",
              "          docLink.innerHTML = docLinkHtml;\n",
              "          element.appendChild(docLink);\n",
              "        }\n",
              "      </script>\n",
              "    </div>\n",
              "  </div>\n",
              "  "
            ],
            "text/plain": [
              "  CustomerID  Diff\n",
              "0    12346.0   325\n",
              "1    12347.0     1\n",
              "2    12348.0    74\n",
              "3    12349.0    18\n",
              "4    12350.0   309"
            ]
          },
          "execution_count": 31,
          "metadata": {},
          "output_type": "execute_result"
        }
      ],
      "source": [
        "# Pengambilan data hanya berupa hari saja\n",
        "\n",
        "rfm_p['Diff'] = rfm_p['Diff'].dt.days\n",
        "rfm_p.head()"
      ]
    },
    {
      "cell_type": "code",
      "execution_count": null,
      "metadata": {
        "colab": {
          "base_uri": "https://localhost:8080/",
          "height": 206
        },
        "id": "qg9HFsQdc6nm",
        "outputId": "9569f9f9-f070-492b-cca7-143f4695c67e"
      },
      "outputs": [
        {
          "data": {
            "text/html": [
              "\n",
              "  <div id=\"df-ad3a4b9c-844d-47d7-bbc0-51d3ede39678\">\n",
              "    <div class=\"colab-df-container\">\n",
              "      <div>\n",
              "<style scoped>\n",
              "    .dataframe tbody tr th:only-of-type {\n",
              "        vertical-align: middle;\n",
              "    }\n",
              "\n",
              "    .dataframe tbody tr th {\n",
              "        vertical-align: top;\n",
              "    }\n",
              "\n",
              "    .dataframe thead th {\n",
              "        text-align: right;\n",
              "    }\n",
              "</style>\n",
              "<table border=\"1\" class=\"dataframe\">\n",
              "  <thead>\n",
              "    <tr style=\"text-align: right;\">\n",
              "      <th></th>\n",
              "      <th>CustomerID</th>\n",
              "      <th>Amount</th>\n",
              "      <th>Frequency</th>\n",
              "      <th>Recency</th>\n",
              "    </tr>\n",
              "  </thead>\n",
              "  <tbody>\n",
              "    <tr>\n",
              "      <th>0</th>\n",
              "      <td>12346.0</td>\n",
              "      <td>0.00</td>\n",
              "      <td>2</td>\n",
              "      <td>325</td>\n",
              "    </tr>\n",
              "    <tr>\n",
              "      <th>1</th>\n",
              "      <td>12347.0</td>\n",
              "      <td>4310.00</td>\n",
              "      <td>182</td>\n",
              "      <td>1</td>\n",
              "    </tr>\n",
              "    <tr>\n",
              "      <th>2</th>\n",
              "      <td>12348.0</td>\n",
              "      <td>1797.24</td>\n",
              "      <td>31</td>\n",
              "      <td>74</td>\n",
              "    </tr>\n",
              "    <tr>\n",
              "      <th>3</th>\n",
              "      <td>12349.0</td>\n",
              "      <td>1757.55</td>\n",
              "      <td>73</td>\n",
              "      <td>18</td>\n",
              "    </tr>\n",
              "    <tr>\n",
              "      <th>4</th>\n",
              "      <td>12350.0</td>\n",
              "      <td>334.40</td>\n",
              "      <td>17</td>\n",
              "      <td>309</td>\n",
              "    </tr>\n",
              "  </tbody>\n",
              "</table>\n",
              "</div>\n",
              "      <button class=\"colab-df-convert\" onclick=\"convertToInteractive('df-ad3a4b9c-844d-47d7-bbc0-51d3ede39678')\"\n",
              "              title=\"Convert this dataframe to an interactive table.\"\n",
              "              style=\"display:none;\">\n",
              "        \n",
              "  <svg xmlns=\"http://www.w3.org/2000/svg\" height=\"24px\"viewBox=\"0 0 24 24\"\n",
              "       width=\"24px\">\n",
              "    <path d=\"M0 0h24v24H0V0z\" fill=\"none\"/>\n",
              "    <path d=\"M18.56 5.44l.94 2.06.94-2.06 2.06-.94-2.06-.94-.94-2.06-.94 2.06-2.06.94zm-11 1L8.5 8.5l.94-2.06 2.06-.94-2.06-.94L8.5 2.5l-.94 2.06-2.06.94zm10 10l.94 2.06.94-2.06 2.06-.94-2.06-.94-.94-2.06-.94 2.06-2.06.94z\"/><path d=\"M17.41 7.96l-1.37-1.37c-.4-.4-.92-.59-1.43-.59-.52 0-1.04.2-1.43.59L10.3 9.45l-7.72 7.72c-.78.78-.78 2.05 0 2.83L4 21.41c.39.39.9.59 1.41.59.51 0 1.02-.2 1.41-.59l7.78-7.78 2.81-2.81c.8-.78.8-2.07 0-2.86zM5.41 20L4 18.59l7.72-7.72 1.47 1.35L5.41 20z\"/>\n",
              "  </svg>\n",
              "      </button>\n",
              "      \n",
              "  <style>\n",
              "    .colab-df-container {\n",
              "      display:flex;\n",
              "      flex-wrap:wrap;\n",
              "      gap: 12px;\n",
              "    }\n",
              "\n",
              "    .colab-df-convert {\n",
              "      background-color: #E8F0FE;\n",
              "      border: none;\n",
              "      border-radius: 50%;\n",
              "      cursor: pointer;\n",
              "      display: none;\n",
              "      fill: #1967D2;\n",
              "      height: 32px;\n",
              "      padding: 0 0 0 0;\n",
              "      width: 32px;\n",
              "    }\n",
              "\n",
              "    .colab-df-convert:hover {\n",
              "      background-color: #E2EBFA;\n",
              "      box-shadow: 0px 1px 2px rgba(60, 64, 67, 0.3), 0px 1px 3px 1px rgba(60, 64, 67, 0.15);\n",
              "      fill: #174EA6;\n",
              "    }\n",
              "\n",
              "    [theme=dark] .colab-df-convert {\n",
              "      background-color: #3B4455;\n",
              "      fill: #D2E3FC;\n",
              "    }\n",
              "\n",
              "    [theme=dark] .colab-df-convert:hover {\n",
              "      background-color: #434B5C;\n",
              "      box-shadow: 0px 1px 3px 1px rgba(0, 0, 0, 0.15);\n",
              "      filter: drop-shadow(0px 1px 2px rgba(0, 0, 0, 0.3));\n",
              "      fill: #FFFFFF;\n",
              "    }\n",
              "  </style>\n",
              "\n",
              "      <script>\n",
              "        const buttonEl =\n",
              "          document.querySelector('#df-ad3a4b9c-844d-47d7-bbc0-51d3ede39678 button.colab-df-convert');\n",
              "        buttonEl.style.display =\n",
              "          google.colab.kernel.accessAllowed ? 'block' : 'none';\n",
              "\n",
              "        async function convertToInteractive(key) {\n",
              "          const element = document.querySelector('#df-ad3a4b9c-844d-47d7-bbc0-51d3ede39678');\n",
              "          const dataTable =\n",
              "            await google.colab.kernel.invokeFunction('convertToInteractive',\n",
              "                                                     [key], {});\n",
              "          if (!dataTable) return;\n",
              "\n",
              "          const docLinkHtml = 'Like what you see? Visit the ' +\n",
              "            '<a target=\"_blank\" href=https://colab.research.google.com/notebooks/data_table.ipynb>data table notebook</a>'\n",
              "            + ' to learn more about interactive tables.';\n",
              "          element.innerHTML = '';\n",
              "          dataTable['output_type'] = 'display_data';\n",
              "          await google.colab.output.renderOutput(dataTable, element);\n",
              "          const docLink = document.createElement('div');\n",
              "          docLink.innerHTML = docLinkHtml;\n",
              "          element.appendChild(docLink);\n",
              "        }\n",
              "      </script>\n",
              "    </div>\n",
              "  </div>\n",
              "  "
            ],
            "text/plain": [
              "  CustomerID   Amount  Frequency  Recency\n",
              "0    12346.0     0.00          2      325\n",
              "1    12347.0  4310.00        182        1\n",
              "2    12348.0  1797.24         31       74\n",
              "3    12349.0  1757.55         73       18\n",
              "4    12350.0   334.40         17      309"
            ]
          },
          "execution_count": 32,
          "metadata": {},
          "output_type": "execute_result"
        }
      ],
      "source": [
        "# Penggabungan kolom Amount, Frequency dan Recency untuk mendapatkan dataframe RFM\n",
        "\n",
        "rfm = pd.merge(rfm, rfm_p, on='CustomerID', how='inner')\n",
        "rfm.columns = ['CustomerID', 'Amount', 'Frequency', 'Recency']\n",
        "rfm.head()"
      ]
    },
    {
      "cell_type": "code",
      "execution_count": null,
      "metadata": {
        "colab": {
          "base_uri": "https://localhost:8080/",
          "height": 531
        },
        "id": "jWSDulrPc8IO",
        "outputId": "dc580427-7df1-4f39-f2af-8d6e41af14d4"
      },
      "outputs": [
        {
          "data": {
            "text/plain": [
              "Text(0.5, 0, 'Attributes')"
            ]
          },
          "execution_count": 33,
          "metadata": {},
          "output_type": "execute_result"
        },
        {
          "data": {
            "image/png": "[encoded data removed]",
            "text/plain": [
              "<Figure size 720x576 with 1 Axes>"
            ]
          },
          "metadata": {
            "needs_background": "light"
          },
          "output_type": "display_data"
        }
      ],
      "source": [
        "# Analisis Outlier dari kolom Amount, Recency dan Frequency\n",
        "\n",
        "attributes = ['Amount','Frequency','Recency']\n",
        "plt.rcParams['figure.figsize'] = [10,8]\n",
        "sns.boxplot(data = rfm[attributes], orient=\"v\", palette=\"Set2\" ,whis=1.5,saturation=1, width=0.7)\n",
        "plt.title(\"Outliers Variable Distribution\", fontsize = 14, fontweight = 'bold')\n",
        "plt.ylabel(\"Range\", fontweight = 'bold')\n",
        "plt.xlabel(\"Attributes\", fontweight = 'bold')"
      ]
    },
    {
      "cell_type": "code",
      "execution_count": null,
      "metadata": {
        "id": "MR9X2s0mdK2x"
      },
      "outputs": [],
      "source": [
        "# Penghapusan stastitical outlier dari kolom Amount, Recency dan Frequency\n",
        "\n",
        "Q1 = rfm.Amount.quantile(0.05)\n",
        "Q3 = rfm.Amount.quantile(0.95)\n",
        "IQR = Q3 - Q1\n",
        "rfm = rfm[(rfm.Amount >= Q1 - 1.5*IQR) & (rfm.Amount <= Q3 + 1.5*IQR)]\n",
        "\n",
        "Q1 = rfm.Recency.quantile(0.05)\n",
        "Q3 = rfm.Recency.quantile(0.95)\n",
        "IQR = Q3 - Q1\n",
        "rfm = rfm[(rfm.Recency >= Q1 - 1.5*IQR) & (rfm.Recency <= Q3 + 1.5*IQR)]\n",
        "\n",
        "Q1 = rfm.Frequency.quantile(0.05)\n",
        "Q3 = rfm.Frequency.quantile(0.95)\n",
        "IQR = Q3 - Q1\n",
        "rfm = rfm[(rfm.Frequency >= Q1 - 1.5*IQR) & (rfm.Frequency <= Q3 + 1.5*IQR)]"
      ]
    },
    {
      "cell_type": "code",
      "execution_count": null,
      "metadata": {
        "colab": {
          "base_uri": "https://localhost:8080/"
        },
        "id": "jj7SeoVJdSj9",
        "outputId": "0979d5b2-f491-442a-f87a-ec47d1d6d4e8"
      },
      "outputs": [
        {
          "data": {
            "text/plain": [
              "(4293, 3)"
            ]
          },
          "execution_count": 35,
          "metadata": {},
          "output_type": "execute_result"
        }
      ],
      "source": [
        "# Melakukan rescaling dari 3 atribut\n",
        "\n",
        "rfm_df = rfm[['Amount', 'Frequency', 'Recency']]\n",
        "\n",
        "# Contoh dari scaling\n",
        "scaler = StandardScaler()\n",
        "\n",
        "# Setelah melakukan StandarScaler maka dilakukan fit_transform untuk menemukan datapoint dari feature F dari kalkulasi mean dan standar deviasi\n",
        "rfm_df_scaled = scaler.fit_transform(rfm_df)\n",
        "rfm_df_scaled.shape"
      ]
    },
    {
      "cell_type": "code",
      "execution_count": null,
      "metadata": {
        "colab": {
          "base_uri": "https://localhost:8080/",
          "height": 206
        },
        "id": "7qOfi0GhdZT8",
        "outputId": "1ecee9bc-ca49-4077-89bd-be3018679604"
      },
      "outputs": [
        {
          "data": {
            "text/html": [
              "\n",
              "  <div id=\"df-f869d6e1-87c7-4ecd-8669-d43461897e01\">\n",
              "    <div class=\"colab-df-container\">\n",
              "      <div>\n",
              "<style scoped>\n",
              "    .dataframe tbody tr th:only-of-type {\n",
              "        vertical-align: middle;\n",
              "    }\n",
              "\n",
              "    .dataframe tbody tr th {\n",
              "        vertical-align: top;\n",
              "    }\n",
              "\n",
              "    .dataframe thead th {\n",
              "        text-align: right;\n",
              "    }\n",
              "</style>\n",
              "<table border=\"1\" class=\"dataframe\">\n",
              "  <thead>\n",
              "    <tr style=\"text-align: right;\">\n",
              "      <th></th>\n",
              "      <th>Amount</th>\n",
              "      <th>Frequency</th>\n",
              "      <th>Recency</th>\n",
              "    </tr>\n",
              "  </thead>\n",
              "  <tbody>\n",
              "    <tr>\n",
              "      <th>0</th>\n",
              "      <td>-0.723738</td>\n",
              "      <td>-0.752888</td>\n",
              "      <td>2.301611</td>\n",
              "    </tr>\n",
              "    <tr>\n",
              "      <th>1</th>\n",
              "      <td>1.731617</td>\n",
              "      <td>1.042467</td>\n",
              "      <td>-0.906466</td>\n",
              "    </tr>\n",
              "    <tr>\n",
              "      <th>2</th>\n",
              "      <td>0.300128</td>\n",
              "      <td>-0.463636</td>\n",
              "      <td>-0.183658</td>\n",
              "    </tr>\n",
              "    <tr>\n",
              "      <th>3</th>\n",
              "      <td>0.277517</td>\n",
              "      <td>-0.044720</td>\n",
              "      <td>-0.738141</td>\n",
              "    </tr>\n",
              "    <tr>\n",
              "      <th>4</th>\n",
              "      <td>-0.533235</td>\n",
              "      <td>-0.603275</td>\n",
              "      <td>2.143188</td>\n",
              "    </tr>\n",
              "  </tbody>\n",
              "</table>\n",
              "</div>\n",
              "      <button class=\"colab-df-convert\" onclick=\"convertToInteractive('df-f869d6e1-87c7-4ecd-8669-d43461897e01')\"\n",
              "              title=\"Convert this dataframe to an interactive table.\"\n",
              "              style=\"display:none;\">\n",
              "        \n",
              "  <svg xmlns=\"http://www.w3.org/2000/svg\" height=\"24px\"viewBox=\"0 0 24 24\"\n",
              "       width=\"24px\">\n",
              "    <path d=\"M0 0h24v24H0V0z\" fill=\"none\"/>\n",
              "    <path d=\"M18.56 5.44l.94 2.06.94-2.06 2.06-.94-2.06-.94-.94-2.06-.94 2.06-2.06.94zm-11 1L8.5 8.5l.94-2.06 2.06-.94-2.06-.94L8.5 2.5l-.94 2.06-2.06.94zm10 10l.94 2.06.94-2.06 2.06-.94-2.06-.94-.94-2.06-.94 2.06-2.06.94z\"/><path d=\"M17.41 7.96l-1.37-1.37c-.4-.4-.92-.59-1.43-.59-.52 0-1.04.2-1.43.59L10.3 9.45l-7.72 7.72c-.78.78-.78 2.05 0 2.83L4 21.41c.39.39.9.59 1.41.59.51 0 1.02-.2 1.41-.59l7.78-7.78 2.81-2.81c.8-.78.8-2.07 0-2.86zM5.41 20L4 18.59l7.72-7.72 1.47 1.35L5.41 20z\"/>\n",
              "  </svg>\n",
              "      </button>\n",
              "      \n",
              "  <style>\n",
              "    .colab-df-container {\n",
              "      display:flex;\n",
              "      flex-wrap:wrap;\n",
              "      gap: 12px;\n",
              "    }\n",
              "\n",
              "    .colab-df-convert {\n",
              "      background-color: #E8F0FE;\n",
              "      border: none;\n",
              "      border-radius: 50%;\n",
              "      cursor: pointer;\n",
              "      display: none;\n",
              "      fill: #1967D2;\n",
              "      height: 32px;\n",
              "      padding: 0 0 0 0;\n",
              "      width: 32px;\n",
              "    }\n",
              "\n",
              "    .colab-df-convert:hover {\n",
              "      background-color: #E2EBFA;\n",
              "      box-shadow: 0px 1px 2px rgba(60, 64, 67, 0.3), 0px 1px 3px 1px rgba(60, 64, 67, 0.15);\n",
              "      fill: #174EA6;\n",
              "    }\n",
              "\n",
              "    [theme=dark] .colab-df-convert {\n",
              "      background-color: #3B4455;\n",
              "      fill: #D2E3FC;\n",
              "    }\n",
              "\n",
              "    [theme=dark] .colab-df-convert:hover {\n",
              "      background-color: #434B5C;\n",
              "      box-shadow: 0px 1px 3px 1px rgba(0, 0, 0, 0.15);\n",
              "      filter: drop-shadow(0px 1px 2px rgba(0, 0, 0, 0.3));\n",
              "      fill: #FFFFFF;\n",
              "    }\n",
              "  </style>\n",
              "\n",
              "      <script>\n",
              "        const buttonEl =\n",
              "          document.querySelector('#df-f869d6e1-87c7-4ecd-8669-d43461897e01 button.colab-df-convert');\n",
              "        buttonEl.style.display =\n",
              "          google.colab.kernel.accessAllowed ? 'block' : 'none';\n",
              "\n",
              "        async function convertToInteractive(key) {\n",
              "          const element = document.querySelector('#df-f869d6e1-87c7-4ecd-8669-d43461897e01');\n",
              "          const dataTable =\n",
              "            await google.colab.kernel.invokeFunction('convertToInteractive',\n",
              "                                                     [key], {});\n",
              "          if (!dataTable) return;\n",
              "\n",
              "          const docLinkHtml = 'Like what you see? Visit the ' +\n",
              "            '<a target=\"_blank\" href=https://colab.research.google.com/notebooks/data_table.ipynb>data table notebook</a>'\n",
              "            + ' to learn more about interactive tables.';\n",
              "          element.innerHTML = '';\n",
              "          dataTable['output_type'] = 'display_data';\n",
              "          await google.colab.output.renderOutput(dataTable, element);\n",
              "          const docLink = document.createElement('div');\n",
              "          docLink.innerHTML = docLinkHtml;\n",
              "          element.appendChild(docLink);\n",
              "        }\n",
              "      </script>\n",
              "    </div>\n",
              "  </div>\n",
              "  "
            ],
            "text/plain": [
              "     Amount  Frequency   Recency\n",
              "0 -0.723738  -0.752888  2.301611\n",
              "1  1.731617   1.042467 -0.906466\n",
              "2  0.300128  -0.463636 -0.183658\n",
              "3  0.277517  -0.044720 -0.738141\n",
              "4 -0.533235  -0.603275  2.143188"
            ]
          },
          "execution_count": 36,
          "metadata": {},
          "output_type": "execute_result"
        }
      ],
      "source": [
        "# Hasil akhir dari scaling 3 atribut\n",
        "\n",
        "rfm_df_scaled = pd.DataFrame(rfm_df_scaled)\n",
        "rfm_df_scaled.columns = ['Amount', 'Frequency', 'Recency']\n",
        "rfm_df_scaled.head()"
      ]
    },
    {
      "cell_type": "markdown",
      "metadata": {
        "id": "UU91JMVzgxzJ"
      },
      "source": [
        "\n",
        "# Building the Model"
      ]
    },
    {
      "cell_type": "code",
      "execution_count": null,
      "metadata": {
        "colab": {
          "base_uri": "https://localhost:8080/"
        },
        "id": "EIS_SCSIda0u",
        "outputId": "da0cddd1-5652-4c8c-d5f6-6a93ffea5516"
      },
      "outputs": [
        {
          "data": {
            "text/plain": [
              "KMeans(max_iter=50, n_clusters=4)"
            ]
          },
          "execution_count": 37,
          "metadata": {},
          "output_type": "execute_result"
        }
      ],
      "source": [
        "# Penginisialisasian k-means untuk mendapatkan k point\n",
        "\n",
        "kmeans = KMeans(n_clusters=4, max_iter=50)\n",
        "kmeans.fit(rfm_df_scaled)"
      ]
    },
    {
      "cell_type": "code",
      "execution_count": null,
      "metadata": {
        "colab": {
          "base_uri": "https://localhost:8080/"
        },
        "id": "zj-u20Gude9g",
        "outputId": "c4c5ccbe-bf2d-439a-810b-3a20f96a3904"
      },
      "outputs": [
        {
          "data": {
            "text/plain": [
              "array([2, 0, 1, ..., 2, 1, 1], dtype=int32)"
            ]
          },
          "execution_count": 38,
          "metadata": {},
          "output_type": "execute_result"
        }
      ],
      "source": [
        "kmeans.labels_"
      ]
    },
    {
      "cell_type": "markdown",
      "metadata": {
        "id": "HxMhOiRePyKc"
      },
      "source": [
        "Setelah itu kita mencari angka optimal untuk pengclusteran. Dalam unsuoervised algorithm, langkah utama yang diperlukan adalah pencarian angka optimal dalam melakukan cluster. Kita akan menggunakan metode elbow curves untuk mendapatkan angka yang tepat.\n",
        "\n"
      ]
    },
    {
      "cell_type": "code",
      "execution_count": null,
      "metadata": {
        "colab": {
          "base_uri": "https://localhost:8080/",
          "height": 500
        },
        "id": "JDHtW-uDdqVv",
        "outputId": "c216fe50-0fc3-478c-b0c1-2eda21629b51"
      },
      "outputs": [
        {
          "data": {
            "text/plain": [
              "[<matplotlib.lines.Line2D at 0x7fa1c6d98b90>]"
            ]
          },
          "execution_count": 39,
          "metadata": {},
          "output_type": "execute_result"
        },
        {
          "data": {
            "image/png": "[encoded data removed]",
            "text/plain": [
              "<Figure size 720x576 with 1 Axes>"
            ]
          },
          "metadata": {
            "needs_background": "light"
          },
          "output_type": "display_data"
        }
      ],
      "source": [
        "# Elbow-curve/SSD\n",
        "\n",
        "ssd = []\n",
        "range_n_clusters = [2, 3, 4, 5, 6, 7, 8]\n",
        "for num_clusters in range_n_clusters:\n",
        "    kmeans = KMeans(n_clusters=num_clusters, max_iter=50)\n",
        "    kmeans.fit(rfm_df_scaled)\n",
        "    \n",
        "    ssd.append(kmeans.inertia_)\n",
        "\n",
        " # plot SSD untuk setiap n_cluster   \n",
        "plt.plot(ssd)"
      ]
    },
    {
      "cell_type": "markdown",
      "metadata": {
        "id": "esoo1Kd5a9_V"
      },
      "source": [
        "Silhouette Analysis\n",
        "\n",
        "silhouette score = p−q/max(p,q)\n",
        " \n",
        "p  adalah jarak rata-rata ke titik-titik dalam cluster terdekat yang titik datanya bukan merupakan bagian dari\n",
        "\n",
        "q  adalah jarak intra-cluster rata-rata ke semua titik dalam clusternya sendiri.\n",
        "\n",
        "- Nilai rentang skor siluet terletak antara -1 sampai 1.\n",
        "\n",
        "- Skor yang mendekati 1 menunjukkan bahwa titik data sangat mirip dengan titik data lain dalam cluster,\n",
        "\n",
        "- Skor yang mendekati -1 menunjukkan bahwa titik data tidak serupa dengan titik data dalam clusternya."
      ]
    },
    {
      "cell_type": "code",
      "execution_count": null,
      "metadata": {
        "colab": {
          "base_uri": "https://localhost:8080/"
        },
        "id": "0j1EFhKYdui7",
        "outputId": "42936430-c122-4d87-b455-3dae62ecbacf"
      },
      "outputs": [
        {
          "name": "stdout",
          "output_type": "stream",
          "text": [
            "For n_clusters=2, the silhouette score is 0.5415858652525395\n",
            "For n_clusters=3, the silhouette score is 0.5084896296141937\n",
            "For n_clusters=4, the silhouette score is 0.48185520134959714\n",
            "For n_clusters=5, the silhouette score is 0.46532456623494595\n",
            "For n_clusters=6, the silhouette score is 0.4175495621530355\n",
            "For n_clusters=7, the silhouette score is 0.41511487119884277\n",
            "For n_clusters=8, the silhouette score is 0.41189609853935183\n"
          ]
        }
      ],
      "source": [
        "# Silhouette analysis\n",
        "range_n_clusters = [2, 3, 4, 5, 6, 7, 8]\n",
        "\n",
        "for num_clusters in range_n_clusters:\n",
        "    \n",
        "    # inisialisasi kmeans\n",
        "    kmeans = KMeans(n_clusters=num_clusters, max_iter=50)\n",
        "    kmeans.fit(rfm_df_scaled)\n",
        "    \n",
        "    cluster_labels = kmeans.labels_\n",
        "    \n",
        "    # silhouette score\n",
        "    silhouette_avg = silhouette_score(rfm_df_scaled, cluster_labels)\n",
        "    print(\"For n_clusters={0}, the silhouette score is {1}\".format(num_clusters, silhouette_avg))"
      ]
    },
    {
      "cell_type": "code",
      "execution_count": null,
      "metadata": {
        "colab": {
          "base_uri": "https://localhost:8080/"
        },
        "id": "b1yVCBbMd-Gk",
        "outputId": "3b5a2328-7a7d-4ed5-f1c0-65d7164cc369"
      },
      "outputs": [
        {
          "data": {
            "text/plain": [
              "KMeans(max_iter=50, n_clusters=3)"
            ]
          },
          "execution_count": 41,
          "metadata": {},
          "output_type": "execute_result"
        }
      ],
      "source": [
        "# Final model with k=3\n",
        "\n",
        "kmeans = KMeans(n_clusters=3, max_iter=50)\n",
        "kmeans.fit(rfm_df_scaled)"
      ]
    },
    {
      "cell_type": "code",
      "execution_count": null,
      "metadata": {
        "colab": {
          "base_uri": "https://localhost:8080/"
        },
        "id": "9-ZMYyZBd_lN",
        "outputId": "a136c00f-307b-435d-9753-b317166b5160"
      },
      "outputs": [
        {
          "data": {
            "text/plain": [
              "array([0, 1, 2, ..., 0, 2, 2], dtype=int32)"
            ]
          },
          "execution_count": 42,
          "metadata": {},
          "output_type": "execute_result"
        }
      ],
      "source": [
        " kmeans.labels_"
      ]
    },
    {
      "cell_type": "code",
      "execution_count": null,
      "metadata": {
        "colab": {
          "base_uri": "https://localhost:8080/",
          "height": 206
        },
        "id": "fqkk0iwveDYx",
        "outputId": "ab40b154-2ee3-4bcd-f07f-3418c830de94"
      },
      "outputs": [
        {
          "data": {
            "text/html": [
              "\n",
              "  <div id=\"df-a4f8fcd1-9f8c-4da0-be3a-28cab523938b\">\n",
              "    <div class=\"colab-df-container\">\n",
              "      <div>\n",
              "<style scoped>\n",
              "    .dataframe tbody tr th:only-of-type {\n",
              "        vertical-align: middle;\n",
              "    }\n",
              "\n",
              "    .dataframe tbody tr th {\n",
              "        vertical-align: top;\n",
              "    }\n",
              "\n",
              "    .dataframe thead th {\n",
              "        text-align: right;\n",
              "    }\n",
              "</style>\n",
              "<table border=\"1\" class=\"dataframe\">\n",
              "  <thead>\n",
              "    <tr style=\"text-align: right;\">\n",
              "      <th></th>\n",
              "      <th>CustomerID</th>\n",
              "      <th>Amount</th>\n",
              "      <th>Frequency</th>\n",
              "      <th>Recency</th>\n",
              "      <th>Cluster_Id</th>\n",
              "    </tr>\n",
              "  </thead>\n",
              "  <tbody>\n",
              "    <tr>\n",
              "      <th>0</th>\n",
              "      <td>12346.0</td>\n",
              "      <td>0.00</td>\n",
              "      <td>2</td>\n",
              "      <td>325</td>\n",
              "      <td>0</td>\n",
              "    </tr>\n",
              "    <tr>\n",
              "      <th>1</th>\n",
              "      <td>12347.0</td>\n",
              "      <td>4310.00</td>\n",
              "      <td>182</td>\n",
              "      <td>1</td>\n",
              "      <td>1</td>\n",
              "    </tr>\n",
              "    <tr>\n",
              "      <th>2</th>\n",
              "      <td>12348.0</td>\n",
              "      <td>1797.24</td>\n",
              "      <td>31</td>\n",
              "      <td>74</td>\n",
              "      <td>2</td>\n",
              "    </tr>\n",
              "    <tr>\n",
              "      <th>3</th>\n",
              "      <td>12349.0</td>\n",
              "      <td>1757.55</td>\n",
              "      <td>73</td>\n",
              "      <td>18</td>\n",
              "      <td>2</td>\n",
              "    </tr>\n",
              "    <tr>\n",
              "      <th>4</th>\n",
              "      <td>12350.0</td>\n",
              "      <td>334.40</td>\n",
              "      <td>17</td>\n",
              "      <td>309</td>\n",
              "      <td>0</td>\n",
              "    </tr>\n",
              "  </tbody>\n",
              "</table>\n",
              "</div>\n",
              "      <button class=\"colab-df-convert\" onclick=\"convertToInteractive('df-a4f8fcd1-9f8c-4da0-be3a-28cab523938b')\"\n",
              "              title=\"Convert this dataframe to an interactive table.\"\n",
              "              style=\"display:none;\">\n",
              "        \n",
              "  <svg xmlns=\"http://www.w3.org/2000/svg\" height=\"24px\"viewBox=\"0 0 24 24\"\n",
              "       width=\"24px\">\n",
              "    <path d=\"M0 0h24v24H0V0z\" fill=\"none\"/>\n",
              "    <path d=\"M18.56 5.44l.94 2.06.94-2.06 2.06-.94-2.06-.94-.94-2.06-.94 2.06-2.06.94zm-11 1L8.5 8.5l.94-2.06 2.06-.94-2.06-.94L8.5 2.5l-.94 2.06-2.06.94zm10 10l.94 2.06.94-2.06 2.06-.94-2.06-.94-.94-2.06-.94 2.06-2.06.94z\"/><path d=\"M17.41 7.96l-1.37-1.37c-.4-.4-.92-.59-1.43-.59-.52 0-1.04.2-1.43.59L10.3 9.45l-7.72 7.72c-.78.78-.78 2.05 0 2.83L4 21.41c.39.39.9.59 1.41.59.51 0 1.02-.2 1.41-.59l7.78-7.78 2.81-2.81c.8-.78.8-2.07 0-2.86zM5.41 20L4 18.59l7.72-7.72 1.47 1.35L5.41 20z\"/>\n",
              "  </svg>\n",
              "      </button>\n",
              "      \n",
              "  <style>\n",
              "    .colab-df-container {\n",
              "      display:flex;\n",
              "      flex-wrap:wrap;\n",
              "      gap: 12px;\n",
              "    }\n",
              "\n",
              "    .colab-df-convert {\n",
              "      background-color: #E8F0FE;\n",
              "      border: none;\n",
              "      border-radius: 50%;\n",
              "      cursor: pointer;\n",
              "      display: none;\n",
              "      fill: #1967D2;\n",
              "      height: 32px;\n",
              "      padding: 0 0 0 0;\n",
              "      width: 32px;\n",
              "    }\n",
              "\n",
              "    .colab-df-convert:hover {\n",
              "      background-color: #E2EBFA;\n",
              "      box-shadow: 0px 1px 2px rgba(60, 64, 67, 0.3), 0px 1px 3px 1px rgba(60, 64, 67, 0.15);\n",
              "      fill: #174EA6;\n",
              "    }\n",
              "\n",
              "    [theme=dark] .colab-df-convert {\n",
              "      background-color: #3B4455;\n",
              "      fill: #D2E3FC;\n",
              "    }\n",
              "\n",
              "    [theme=dark] .colab-df-convert:hover {\n",
              "      background-color: #434B5C;\n",
              "      box-shadow: 0px 1px 3px 1px rgba(0, 0, 0, 0.15);\n",
              "      filter: drop-shadow(0px 1px 2px rgba(0, 0, 0, 0.3));\n",
              "      fill: #FFFFFF;\n",
              "    }\n",
              "  </style>\n",
              "\n",
              "      <script>\n",
              "        const buttonEl =\n",
              "          document.querySelector('#df-a4f8fcd1-9f8c-4da0-be3a-28cab523938b button.colab-df-convert');\n",
              "        buttonEl.style.display =\n",
              "          google.colab.kernel.accessAllowed ? 'block' : 'none';\n",
              "\n",
              "        async function convertToInteractive(key) {\n",
              "          const element = document.querySelector('#df-a4f8fcd1-9f8c-4da0-be3a-28cab523938b');\n",
              "          const dataTable =\n",
              "            await google.colab.kernel.invokeFunction('convertToInteractive',\n",
              "                                                     [key], {});\n",
              "          if (!dataTable) return;\n",
              "\n",
              "          const docLinkHtml = 'Like what you see? Visit the ' +\n",
              "            '<a target=\"_blank\" href=https://colab.research.google.com/notebooks/data_table.ipynb>data table notebook</a>'\n",
              "            + ' to learn more about interactive tables.';\n",
              "          element.innerHTML = '';\n",
              "          dataTable['output_type'] = 'display_data';\n",
              "          await google.colab.output.renderOutput(dataTable, element);\n",
              "          const docLink = document.createElement('div');\n",
              "          docLink.innerHTML = docLinkHtml;\n",
              "          element.appendChild(docLink);\n",
              "        }\n",
              "      </script>\n",
              "    </div>\n",
              "  </div>\n",
              "  "
            ],
            "text/plain": [
              "  CustomerID   Amount  Frequency  Recency  Cluster_Id\n",
              "0    12346.0     0.00          2      325           0\n",
              "1    12347.0  4310.00        182        1           1\n",
              "2    12348.0  1797.24         31       74           2\n",
              "3    12349.0  1757.55         73       18           2\n",
              "4    12350.0   334.40         17      309           0"
            ]
          },
          "execution_count": 43,
          "metadata": {},
          "output_type": "execute_result"
        }
      ],
      "source": [
        "# Pelabelan\n",
        "\n",
        "rfm['Cluster_Id'] = kmeans.labels_\n",
        "rfm.head()"
      ]
    },
    {
      "cell_type": "code",
      "execution_count": null,
      "metadata": {
        "colab": {
          "base_uri": "https://localhost:8080/",
          "height": 515
        },
        "id": "0zRAJaOHeIFf",
        "outputId": "7bd6af59-28d6-4fa9-b82a-8e9f20d11225"
      },
      "outputs": [
        {
          "data": {
            "text/plain": [
              "<matplotlib.axes._subplots.AxesSubplot at 0x7fa1c6d5e2d0>"
            ]
          },
          "execution_count": 44,
          "metadata": {},
          "output_type": "execute_result"
        },
        {
          "data": {
            "image/png": "[encoded data removed]",
            "text/plain": [
              "<Figure size 720x576 with 1 Axes>"
            ]
          },
          "metadata": {
            "needs_background": "light"
          },
          "output_type": "display_data"
        }
      ],
      "source": [
        "# Visualisasi Cluster_Id vs Amount dengan boxplot\n",
        "\n",
        "sns.boxplot(x='Cluster_Id', y='Amount', data=rfm)"
      ]
    },
    {
      "cell_type": "code",
      "execution_count": null,
      "metadata": {
        "colab": {
          "base_uri": "https://localhost:8080/",
          "height": 515
        },
        "id": "ngCl8buCeNSO",
        "outputId": "a80c0b26-a9fc-44e9-c5b8-9e7302f89e77"
      },
      "outputs": [
        {
          "data": {
            "text/plain": [
              "<matplotlib.axes._subplots.AxesSubplot at 0x7fa1c6c415d0>"
            ]
          },
          "execution_count": 45,
          "metadata": {},
          "output_type": "execute_result"
        },
        {
          "data": {
            "image/png": "[encoded data removed]",
            "text/plain": [
              "<Figure size 720x576 with 1 Axes>"
            ]
          },
          "metadata": {
            "needs_background": "light"
          },
          "output_type": "display_data"
        }
      ],
      "source": [
        "# Visualisasi Cluster_Id vs Frequency dengan boxplot\n",
        "\n",
        "sns.boxplot(x='Cluster_Id', y='Frequency', data=rfm)"
      ]
    },
    {
      "cell_type": "code",
      "execution_count": null,
      "metadata": {
        "colab": {
          "base_uri": "https://localhost:8080/",
          "height": 515
        },
        "id": "Rd3kiiVreRbi",
        "outputId": "132d0fac-5b38-4681-bb58-43e5bd7a0a40"
      },
      "outputs": [
        {
          "data": {
            "text/plain": [
              "<matplotlib.axes._subplots.AxesSubplot at 0x7fa1c3769cd0>"
            ]
          },
          "execution_count": 46,
          "metadata": {},
          "output_type": "execute_result"
        },
        {
          "data": {
            "image/png": "[encoded data removed]",
            "text/plain": [
              "<Figure size 720x576 with 1 Axes>"
            ]
          },
          "metadata": {
            "needs_background": "light"
          },
          "output_type": "display_data"
        }
      ],
      "source": [
        "# Visualisasi Cluster_Id vs Recency dengan boxplot\n",
        "\n",
        "sns.boxplot(x='Cluster_Id', y='Recency', data=rfm)"
      ]
    },
    {
      "cell_type": "markdown",
      "metadata": {
        "id": "cuKA96aMcSp5"
      },
      "source": [
        "Dibawah ini merupakan proses hiearchical clustering\n",
        "\n",
        "Pengelompokan hierarki melibatkan pembuatan cluster yang memiliki urutan yang telah ditentukan dari atas ke bawah. Misalnya, semua file dan folder di hard disk diatur dalam hierarki. \n",
        "\n",
        "Ada dua jenis pengelompokan hierarkis,\n",
        "\n",
        "1. Divisive\n",
        "2. Agglomerative."
      ]
    },
    {
      "cell_type": "markdown",
      "metadata": {
        "id": "_GUG4Yb8c7V5"
      },
      "source": [
        "Single Linkage\n",
        "\n",
        "Dalam pengelompokan hierarki single linkage, jarak antara dua cluster didefinisikan sebagai jarak terpendek antara dua titik di setiap cluster. Misalnya, jarak antara cluster \"r\" dan \"s\" ke kiri sama dengan panjang panah antara dua titik terdekatnya.\n",
        "\n",
        "![Clustering_single.png](data:image/png;base64,iVBORw0KGgoAAAANSUhEUgAAASIAAADlCAIAAAB4Rm1ZAAAAAXNSR0IArs4c6QAAAARnQU1BAACxjwv8YQUAAAAgY0hSTQAAeiYAAICEAAD6AAAAgOgAAHUwAADqYAAAOpgAABdwnLpRPAAAJ7tJREFUeF7tXftzVdd1vv0P8pg20Q/tTMMPbTqepBlP2gTHqZo0SmI6ddIpSUMd1aM4VRw/6+DrqE7iENtxY9mKsT2NAYvIDzBYuiAeCkhYPIR4SAgwyCBuMFgGIYsIAbIwj+Br+p277j069zz32ee199HW3MHy1T7n7POt9e219lpr7/0n165dy6gfhYBCIFIEQDP1oxBQCESKQCbSu6ubKwQUAprDqFBQCCgEokZA0SxqhNX9FQLKmikdUAhEj4CyZtFjrJ4w4xFQNJvxKqAAiB4BRbMSxhdOnjzd2/t2Lnfg/vuNn2MvvHCqsxN/jV4W6gmpRWCm02xi//78M8/0fvazWzMZ+uy97TadZvhd/373zTeDcpcnJlKrC+rFIkNghtLs6sWLsFFgDrHo0KOPwpQ5mSx8j8Y65UBLRbbIFDKdN56JNINnSOYLzAG7QDlG2YJd4BguxOUgHuNVqplCYGbR7Hw+TxYMbiF+5xM/jBsup5uwU5TvWeqqdCAwU2gGPsAzJEMECxZceDCJZA9VdCQ4mKm/w4ygmW7EEMMI0f6AriAtPoppqedJwBdMP80wiSIjhqBiQLCsl4NgxLQQ2Rt6J9UNE0cg5TSjiAVcu+hoAFMZ9SMS1xLVgYAIpJZm4BWF4MG0gBh5Xg7vMZ4HefZENRATgXTSTOcYAhXx4E5mMwq/NJ7+q6dEikAKaaZzLJSIIiP6eChSBWqSxgjXTGuWNpoF5Vhh6PmaT3xl8cDJ/hfu/4eqTOYz8ztPffDBByxqQZO0GHxUls6oNkIhkCqaBeUYJDPZfefHPvm1ed+88V+fWLP79d+tXtW5tWdqaopRZpSaU/F9RrhmTrNU0YyKM4L4ileHlszGDkd/Pa/p1fbly5fncrnNmzez0wzVWFQdMnMUSL0pCwLpoRkFIZCAZnlthzaF8c7sRzOfuKH+lytWrhwcHDx79iw4VigU2O9J3eCu5GJ/kGopEQIpoRnloAPPi8bX//ffZj4y976nntu7d+8f//hHDkGSQQvcE44nq0vERSANNEMYnRLEQWEuDD1V/bHMp+p//cqKiQDrysigqcUyQcWRouulpxm0ObRyp8nu+j/LfOim7LrNm/lMGSkGQiCgWWwpuxRpY2pfRXqaUalHKMG99488PzvzN1+fv3D//v2MQXwnvUCvkEZLrdaoF/OJgNw0Q8ADHAtphWXh7KYffzRTXffY4mPHjvmE0dycyq9UICQgjKm5XGKaUToYqSp3YZwam9i9P79550H84tpyfOOPPpP5yLcebF52+vTpgAJGBk8FQgJimKbLZaUZ9NhzSnbp0pWfPdX6ue8+rn/uevglF7JNTk62trauXbv23XffDS5j8F/5jcFhTMcdZKUZ1Vu4lOqCY7dkF4Ng/3TvsjkPrscHv9xwa9OcHz599rx9Vcd77723Z8+efD5/9erV4NKlHEMok8bgnVF3SBYBKWlGEXx3d3Hda3vAsa/e33rzgm79A7Lhy+eWbXICHQTzlYx2ER4l0FS8ERDB9YCHj3EHaCDbQfvzYV6N/8WXM2EGKx/NGGvh581f9MX654wco9//8c7fgmnxjG1wGmdy4RUsObhk3OsS4w5cfaIZfjd+8A0ol9Zko3w0o+ii58ouchetNMOXsdGMuhoPpYV6CgKtOrvwC6wWTJYthUBFiBJA6XtmBtl0TCgQjJ2RTAko88tiIm66/WkYLivNvnz3i7HRbAaG9fHKRBj8C3b5sk5k/WgLzZSRTTKakbPBIrzGJesQ8Pjnn24wMu1fHuqa/Z9PIt4Yz7BH07OQ0nrxdJn/KSAJWTAQLNAiiYsX9f1qMf1mkTV/p+O6UiaaUeSDMaiAwD2s1o23PXtTwxpiGiiH/8WXbw6PxgXvNYzNnpm92DoT3YNo18oQN2PGDJxc7oi2JIsOCts7y0QzDJP4sO9Rhaz013+wELy6oW4hEQwffMkNMfj5/MrX5v9qxY8bV65Y1+uUGDDeH+Y3hJpm7h5HfyHEoe/BbLQ8SKigJAB5S8D166UdfLDDQpILKvuKB2loRmkov94ICfsXz+TwQYifhRhOmgmCgaXwORHAJNKCw57aQ8N89NqezBN0GphcDMD+wwXaHBgDHODCv/j93kdfwvd+Owoax7ALoN9e+W0vhwZQzUeCZoGycIipYHZHLihScCAbmOZOXYqCpDJJrW8Fa436YvYLuGruW6FPjPE7voFx86ug1J4G2Uj32+TrGONVctCMbEKCeUzELUEqU9ySkt2wci5YU+GlZ/qBUVriNNM5Zh1BDg4NmzhGuFEqxauy1PEVacCSlGkS0IxMGUsQPyItpGiKqaCEVAceUf1DbtsiUA0xY9gmov6HflsXjuFZZPl1s6+PTQhB4Xv8lbs/8jJNApolbsoQ+YB+6BFLo00DzVBu4q43oFmwHUq41TKSC905ptPMmrHENwFphptLyjTRaZa4KYNoMXGHfiCvbVUdTO4fbHrVXZ2ptigSlY/9pvoWfS6zTcScAJcpYwnovvbAqoCRXnpdYppcaRLRaZa4KSPR0oIaTMaMTKPJhmewMU00o4UR7vFexIQoY2n0G/E7RYw4go3WwYRSahK54qLTLNkAoy5gqA5W0KCsBDYN3iMG5urblzCGzugI+dgNT/gPpHAfiwNM0zPwChNawIV/KabvOSSxd5qSdQlGxdi7ipZC04zcA7+5Ml/vz94YgRDTIlFkqFnG5nSkzqialD2nAkYhPEslAfhgBosIJDvani1Z1vV63iS2BkLTjMo+YsOC5UEwa4iI4MNCMLphOmgGgsEm+60wJKwiqm5j3KWCRaxRtxGXZgRiCupuU0AzegUBZcG4KipqFnneX1yaYbadjnOMaLyQZRZh1ZhkDwYojA60Pf5dnM2TyXz8i/OX9o9cMvaQXEdfla6elIiigaA0i2KLbPh7qNjAJAFTBdT+YprO7vgFgV52mrEvPgqCkv21U32/vPEvP/u9hUvXbFy//tWlP/uPb/5i7cXLl42Nfa3bCL+HbHcUlGbkpYRYCogABlXrI6GMaCHV/qL0LgamSU0z6nxCofPCRNcDf5r5yvef+G1HR0dvb+/GjRu7urrOnz9v0m0MBBzzRjaChNNKUJrBDWAPankiAS4h6oXiemPiC1Fmxoi85/3dG0hNM4p8sC8+CohV5eWFE2vu+3DmL750z/+dPHsW261fuHABZ/RY9x2jKKjIi2VEpBm5ASHG8akuwVotRdvvBFkdw6JV8tKMEioJmTIN2tPHt33/xj/XpmXfebhtzymX868EPx5ERJpRPjfEERTLCpEetZZKUYl9iDlTW9bJS7PET9PG4XKdG1556O5bv/3pj2Yyf3XryqNOTItiMs8yhjK2EY5mUWyLjTWd1mUstG0BaAZbxwgWXzNJaZborKyENA4MGRsb27Bhw9Lf/OQ7n/xQZvaCQ5cdD50T2aAJRzNyVMJdoEW1P9ZiVpqeRZQ81TkpKc0orhCiT8E3SIFp2HT9jYPr6j/14cynf7BzdMzpPjRDY6kF4+tJkKuEo1kUW8/bFrPCY0RQpPaBJUHgY7lWRpqRD5akyhaGnq9raBkYLXqJk2+szH4m8/lvL/jN8PCwy5lYggwNVq0Qi2bkMUYhXUzAYLgwQ8NqeRT+IqaPOuCv1i/kXszLQjBqIyPNEnfAPvjg/aO9rY//4ItaXjrz8dl3PvGTp158ta3tzJkzLsiHHjxjl7J7S7FoFunOGShdpcMr6IM64Bg4BvRJ9nJVgSS+7x2i9v39/cuXL1+/fn1nZ2dbW9vLL7988OBBz1NEwk0FpZNmUXiMJqSo9jeGrLT+XOlqGqOYHvvVV3iG4+PjAwMDmzZtAs22b99+9OjRy5X1H7b3pCpHvyXOfrvnt71A1iw6j9EvKOG2l45mVE0aLgh8d3v//fdBrUuXLiE3zXhMcfKzSrtXFYhmad1xXi6aRZFQ4eMY91UCHvwtEM3EGUS5BezixoR7z+juJoLHGPDtBDzAUSCawVERuSyNW/Zy7QWSgsFOwAMcRaEZRb1DrGPkZkXoF8pFM8FrcBmlA78xxNJzxoe6NBOFZhQgSrzmIDig1jsgxCzLbmeUewi3BCcKSD3vKZo6iUIzcYYf4+kW2FQneClWskXunhppbBCPdiKnEtb5IU5vJ5pzJATNxAnlI2GNjeKoXgQLQCmR7b5Lvrsey7W5dwyDXeinYTnhL5T3KwTNBPFVYMfAMRQ66ivTsIkn7cfIvfO7RJVWMQx2cZ7tiCmxONuiCUGzeHwVT/eJCvmtqz9h1rDBgefltg0kqrSK4fCaOE8qpnSlILN9IWgWg6/CQhLshm+7LC3IehmJctMx6CVGMaxYt66vRSU3/sQiI/Y2QvkRQtAsoqp8dpFQSxzfCsNlVQLYN+5laRLt7B1DQSlgxMEDVoTpNAK/8pJoVpw8zWLwVRjlB5cGEzOrEtBJk3zl/BIlzWJIPGD3PtuBjDZlYRQTe7MY3oixM8nTjHwVEUqqaU2aabgNuPpTEEPtqQ3cEVFE5zGnxTYQ2HAFYXr3pQ80+zUdyEg7sjy3bJNnJ/02ECcKkjzNYvBV2MVDh1EgughHkY4ygX3jNmUCVv24J5r8JqZpYMIHc1o68wUb9bmYff3od4xlgBcEwy9YX4sAbxT7i4kzMU6eZuJYdqgg9AApaX3pJ37BLgbcGWqhZuHuYw3Hglo6YxoE0zdZAXMwKrkfew+ETQfrIPLE55B7jp7irPlImGbcvoonxEEa6Me+cBOMnh5D7C7Iaxqv5Rj4sRQdFsx0xjTLsfd4LngFS4hPRASjVxNn2p8wzSQa7zkUWqJqd7+uO+1ihOCQNWLkeew9B5J8l4gziCdMM3HiH3yCdL8K/rAsp077jYi6HHsfRRKMWzqCFJQmTDPaQYkbRJEvFGcoZUHJ7x47LsfeY7aGA3dYHhpDG1Q+iDDSJazifgfRGAQT1iPk8oc5Rn1EMrQgYeWx91QxE/VGzuwyEkTBEqZZ/GXUmHNHd0yrNaggSE2dp15y0AxIYqNLhBZBLQQbKToPjsVznJXnG1EDv3NOxtv6bZYkzWJ2qxCApjME6YMMT6SHVIiTG/XUCdoW22/SjAKGSHgY8x8wcXFuzuf5ahwRVM97cjRIkmZxulX6rsMYeinvTCcJRufexG+oOcRPlwQUBLwDwAiEo0gxc78UXahodo0jJcoHOh0jCF4Zkzz4nZgWhXKQfZBla5OANOMTSjxXKZrFN9KQKcPW+aYkT3QHL9EeZiIUarJos6IZC0pB2iTpNHJH82kzCdSqYvsAz3JVoEMVq9ZEKr4JsjLaBXeJJmbBncYg+hf1tYIsq02SZnzBVn0zCcS4qK7XvVxVp5n1fLPoaCbRxCzdNBPEUEtGMyo+wJxK30qApVyVtqCwLiikhWSIQIY7poq2rZLn29GQL0vuwfN1jA0Uza5xrMVCTgYWjKNclarCjTV4lEjFDX2JjaWxIFubsHSV2sQWi2LvUlgtFc00miEQ5AtQEAMlc9ZZlrZC7PanXW6FYCMYhctpZzhaHPXDBS9GEWYUZGsTdmAF0UX2DrO3FOTVknQa/dKMqsKDbCaBeR3MGvb8wL8ssRN2ceotZVnKiXOM9KOMBNFFDrQ9LxHk1RKjGd9aINDMdmskzNaw/MkT9BgaCHgciemtwa782MSS3UPtB49duXKlUCjY6iKmrP/73FqKMGGXlIBL72JA3vYRgiz5S5hmfo+KhbwheFO5KhJiEcXlOZQD4dNdN9/McWFsl+Bc2d/seGNO20586tf1b8ufGD90aEvlsb3IlABSTIMxqOFDEd0guy/H9namB8309DSfNUfMEGvgqVwVgRDE6KlcFaYs6lI6qjl2f8qVCxcW3fajJS+tGRodh5VISrfcn4uTL3cfOf6tVRrN6HPb6p0vfOOWM4cPkxtJ2XywSw814RfafCr0qCx1lQVbPjAVzbSTlvxaMxKJqVwVm0lEEcnQ5cpyNjwU9PT5qQdX95DiLuk9ePHiRcZzXPkUiPEqmoPpPyA/rNm5c+cOHj7y1IZenWn4paF9++CJMfz1luwihIhMcSYwDV+GHpg1YRv6viAznWYB0/MwLKjtwCfSzSSgyrQDDzQMyQDk6BDnxCIrLAAxPhdHJGOe85323brWru8/MDU1xUEzEyvof8EN4w8ehx/wgX7yY2eLnwl8jrxzBoZ034nTawffWjN4HJ/2g/gcW33gGCZjj2w58PBmfF5f0L3/Z117H+jom5vbYWQafl/w2v7P1zd9+Z6XY9gbmKpz3LFlHE2cmgmyHW1iczNBhhl3KVJeGwkAY6bOuHMjOPD2mfPZzn26sn6/pWNT766TJ0/CmhEfTKw4MTFpYgWI4c4KEOMX3dpnnoHJJnqE9b/fXrXzCw8u+dJdLVHvDUxxYxdsAxKMLuerNArl0cabKJq5QUqmzFqlReUjR0+MLd971KTf97Rt/Z8N/T9/bR9YcXvHnrC0P6z73LWq567V5c+qnn9rq7Bm+OtrO3Z/qfbhL9z2rJVm4YZznbANcmKBVZaKZtpmw6EPG+HeEJvp2h5eAe/xhrufvbV9V1ja73Sfu1f3mD7Z9p7H125pXLcVnyfwWb/tyfXbFv9u6yudW17p2rqia9vKTT2vvtbT2r198/beHTt27Ny5c9euXX19ff39/Xv27Nm7d+++ffv279+/e2Dfk53T/f/Gim2PZBfgr7DDret7PnfLr0x7A1OoifsAKqtcnLANd9kER6VRuCpEd0tM0aVwGqEK1mAAhvmbGtr//tZfPfm7nXNz0/E6UOWbr/bcmdtWshhluwFW6B/ixtPrtyzbsHn5xi1Gbmzaum379u29vRo3QIzdu3eDGyDGwMAAEePAgQODg4NvvPHG4cOHh4aG8vn873//+zfffPPYsWNvvfXW8PDwiRMnQJKRkZHR0dF33nlnbGzsD3/4w/j4+JkzZyYmJs6ePYvIx/nz5ycnJ8fGJ4z+54LVm5fc+r3Vc+eiGTJpFy9evvdRrWIGHh3Ihg+dqIgvQ1RBLLBwwFY7GCSshe1+SyBCfEHlNLKCiUoRLT/bsMbkQSG6/XfzHh08NLSjb88ja7YabdG97b2rtu4EN4zEOHToEIhx5MgREOPo0aMgxvHjx0GMt99+G9wAMU6dOgVugBinT5/WuWEkxrvFH4RVLly48N5772Hih59Lly5dLv6AG/hBpB4/FBfR54TG2AkFVPCn/uOnqM/fzfWC7aDxrkWLNmYy+BNBQ7svI3eC18cHv4Rox+gRLtjiiaGEjvlKIFiVw087Zc3c0KJl10jTGRPiNDF7fPFaKDpYAfJ09uz4r8eWGMn2yp7DMB0BWQGG2AYe/cjXpi1ue3x0rGXrnmc6tsJygvkwYsMdHchQW9ehIggUUSzXBVsUIQR8R7o8YDQ7lD4op5EJRkqIkwcFI0Y1x3CfoCXgAOwGzMvg2rVLM5kXFi1FdIHI9u+rd8H4wDhwxPSZuhWgEbqEPsOWwu2ECcXv6CdftUCAXmiX2mLLsjEWLqR0Dj4uVWDiTEwSs2YSLb6AA4M6o/qHXgDBkD+17tKzf/78LXPmQGXhHLZt3vHLdT3Lt/VjRqT7YAHVMfTLYdDgZMLb1AeCmHcZ09/IE1vru+OIJnJl9Q+sn211jjibqydGs0SGz9D1FTek3XWG29pg2eAlYpYFNwwxCb70dBQ9ZLwnNh5GMpexcVLNXlrdYywEQz6T9hK39TMF2XIYWCmaBVUY2tGEZjXwxxCEoOCEsKbM6YWRYoJeBoUjyuspo421haaIFDHNOocUJMyoaBZUKcjXEt8IsLynODMZp95ScNJaLQCbZs3piRNmTJ5mHDvdsmhMbG1INTkKoGPrIfuDxInLOfXZ1w5lQh02lJjTCCjFsensumhsCVOG+YwIB47w9d90lfjrvsmamVYbwoGkwhFTZk+Q3fMJZEUzfhVNkykjFAQ/kM1pbobZmnVuJlREJ0maCXXqNAfbIEi8AseFwl7CvUFtbG9EBcfIYZJNw7/EMXxv7INom6snSTP36mkMXcAOB9Jhhxxkq8IqcgtLISjvJ8su+YxvTS8l+ISZZmjGj4ljeFnRNldPkmYu2UO9PgAF8vp+b1R7wagxkTajWVnKTBkQo8Ap9pmMFL3gN6fd3cE3/Gtb/YjMhFDSSZJmThFkl2o3VAAEF1LwO1DPU2bKCBbRFJRDWAIOFknSjFwUazQ8htptDuHpl6QswGiCQvwN8Dxl56RXnhdG1yBJmjntNe+8yktbiZT4hoHpCzAa1YvC+uL7jS6UEKeUUe9kkjRDJ2xTZ6AZ5mPWRfJY95U4zUgLU5Mrs1VWqf1GMetyEqaZbXGn+y4RES1/YnQYMFJKdD4g40vZ+o2SlraI6fQmTDPb/b1oPylThahxPyk+7Ql+FXm5UjtULCCIaRBYeo42CDAKFWOkbidMM6exR98dkU5kt90dkRH3EJtBfojjp/IcMBNKlKfmeFMMkRRqT2QKTeMglCpEoYdyq4RpRtl6W1wgrXnzF+lZyND3o/ULX4qD+FYoOPQVaRg6RE7/YMf1mD187tHBrzL4bZ8wzdBd2AdMeJz6Tburh7IBi19ojO1pOEh35MOEjy/vSz8+DvvMwb1HLS/cEO2og8rtmYOIwPNaik6JuSgpeZoJGH61ShShmtRHPkxv7auajFKdpq0dwTdshA43xJMhoTSgQ1IxIIZyt3BvkjzNxN8UhNxFvweLhiunRO7GbtDAJdtNF2ldcwzOiOA1A8nTTPB8KLmLgq/ej4iE7AYN2+xZ9w4o7hsbU6pT8JqB5GkGFRE2H4oxEn3D7NG6gWFEmi3abRkNGk7xtt0Fnfa0jDoQIn7NgBA0EzOlCI2nyFUqS4QZ+UwGzTNETgkY0/bMdCRaDIcVk5jEnJURzkLQTMwYEWmYmJErRpKE0ozsuXsODbMv2p5ZZxqCjbBv4F5EB3zqr0a5B8HFJATNABnFGznyoaFokvUmGBrRH2iYOF2K6E09b8uox/AMwTTwCmSjvZnxiWExLsso4PmOUTcQhWa0rZKncxI1HHR/UIsKPkT2Q+KBgp5CXplnlSOyZ4js46gXFH+jECSGACNFPgRRGxeJiEIzdJFxth21elHYA8ITfK1+1DgY76+vFhfKtksUBBaIZuzh40g1jEZu8QfISEGw3pzcDZd6nZj7g8eRuyiFxyEQzUQwaMQxwefT8Su00XUUJO4q12goFs3IoCVVb6E45k5g3Z1O3IBIFwQWi2YQM8pzE0kHE8dmVHEwh1VE6gXSSURAem/1KZlQE0V3MIWjWSK18MQxFb5nIR7F95PCihItyfKcBSVTG+Fohv7FHKVVvqJfvSGfLX6m6RxL3Gv1i5iINKMgUgzlM/A64CWqmIdfpUH7+JkmL8cAl6A00+cA0Y1buDMydQlGXDiUW6hLdKZFJyP9feGpkq8Yw7OiAFlQmuFVIx29kBYjsakcdBCtAtNigJEqy+XlmLjWjGQfBdNgJ2kTOPilkg6NQYgR+rW6UxDFhl/w6nVhSRRXtIIsrjUzMS2UrCgZMeUohks2Ixk86x7ZH02mEsKKgsDs3Qilpeg0I5tGEREMbNxDGmRGMzFlxELRG+tN9CEMYgq4ChZcpdAURBYibyN6cZbbSkAzvAbYRRuqYHhDuJ+dbGgJ8RPB8G8oJpEF1pnZBmhTdoTGRI55LwREBCNBpwZGOWhGcOuDHEkRInEaNWEAwS5y68mCKYLFprIQCm0mTUMbxkfwzWVkRHtIR7/E70ga23sFeZBMNNNna7pIiEV06id9yL2kD8lYxTmC6Af3teAVyKOPdGSgjJKi33Vh0VHRHAaQu4dxXigfzXR0YNxgsiAbk/DgbLgYujjBVc/S3RAIxSopCA7jIISYjgmYi7glpplSYoWALAgomskiKdVPiRFQNJNYeKrrsiCgaCaLpFQ/JUZA0Uxi4amuy4KAopksklL9lBgBRTOJhae6LgsCimaySEr1U2IEFM0kFp7quiwIKJrJIinVT4kRUDSTWHiq67IgoGgmi6RUPyVGQNFMYuGprsuCgKKZLJJS/ZQYAUUziYWnui4LAopmskhK9VNiBBTNJBae6rosCCiaySIp1U+JEVA0k1h4quuyIKBoJoukVD8lRkDRTGLhqa7LgoCimSySUv2UGAFFM4mFp7ouCwKKZrJISvVTYgQUzSQWnuq6LAgomskiKdVPiRFQNJNYeKrrsiCgaCaLpFQ/JUZA0Uxi4amuy4KAopksklL9lBgBRTOJhae6LgsC4tKsMDqQa3ykJX8pIigL+WUNjbmB0SsR3T/Abc8NNM7JZOY0Dpzju0kk0Gk3bWpoGSrw9SmBqy7lWx7RJGzqcWGopaHJ+nWkHYyNZpfyzXMz5p+5zfYsKkwNtdTWZFssEIWKxZXRvmdrZ9U29ZkFEepTOG4WhGYu0NmKgERSk21uzXXnp5w6OzXYXDs32yIcUh7gFkb7miDhZ/sqB9PCaG9TbXVtU29sgo+NZkVACkPNNVWQapXlzQ14kaL8vDsOO1N8VlVNQ/eIPIO0i2oxQKeLINs9WbpTYSq/pbWxFoKpqm0ZmrIgUeSYtBBNDjXXVVVb1El7qeurG7riYVoiNLs+2z3upCyFkVxdFb+/5N92XBnJ3VFVdUduREDv0d/bMEFXoplVBEUcrEwrDOfqrq9u7HM0dP76mERr7RWuq6rLmYbSIlzX1eWGYxhh46XZZHcWkqxpzju9GSEyPdDGIpWi5lnFEMuzw3sII3QkgqqG7kmLDIp3yGSMmkdjkF3j8Doew50K+eaaiveiZxa96FhG2DhpVpjsbtBE7MiiwtRAU3XGacIWnTioY242Nrpnh3RnRujcRVCevOnj4FRfY/WsmmaJwh5OcI53Z6+3GVyKg04Mw3qcNCu+qps2O2ChQXdldKAjl8u1NtbNIalPDeWyNW6GcRpwzD02NtZinMbco6krf25qoDVXGXopjnahwz2Z727PNWdp4ChG/7T5D8xFbePGvDYFQoMV1DH0rLGLIhDFN9WmSmXaT+W7c8vQrKgNuAR3LN6muiGXL0+vrrlAZ9Q8dxGUSJgpjXSuo0+pV9UGp2syn2uoxqtY3DOuoUSbMWo4zDL48yR0G7vk+QQaQSwjKbnQ0ZvrGGnm4q4QSo4uJSkH/ZDKdjWQqjEAVHTBq0qT3WLoycYL8uybpxzNDYxhPUMcT5t5g1dV1Y+tyDU1USi1/DqYkU6QwS/+FHWCOlb8qap9rLn5xS6NWhS5AdOaBihi4emNGxF2BE2nGakjwW7nXBh6VRJBYaS7AQSgsKXzpIAVRr0nxRcvuj/TQs9U+TewTmbcc+hn7bF7u9ho5ukxXvMwKbomXR1ub1oxNHW6OzubYWpuGZJxnzkWPXAMDExHR8s8d/ivre6W1NGoqWUF0hmiTxJ0c2ruTBk6o5WobMNmjT1FUGnNPEf60pABTo6M5LJ14cfHy6MJsD13PFd/R5DUC0FkGZdLo2HUfmNsNPMcNkjGzgOVprL4a29f82Jfsf6SCtqGqvUhqKS1HMOk6yhmQ7PSaFIp70phO9GsYk5rxNMLulIfPUVQtsA0ZDBYyBK28+rua4ooFEldum5e7X1NvMl6evsSzczG2TIdDcd6me8SF828vTJ6YSdFJ02qyTY2NfuGm7K9Zb/RHseSXxryqBYTzdyhK7+wtwgqQCjppbsH6GnxAmstm6FmeExJFqbpWdmAM8w+GJ7h2CQmmjGA5a4rNMWfm219nSeBUwpVVzk7mamnWVmfnGlTnMSWZr/Tw7/HRIukFmVwmJgcfL43A2jGMty6zhwIo4r5jM/BpTSRcEh8p8FpdI+U0jji4hWXGkyPRN7WT3PFcg211TwxCVbxlZ4QmMkzwGksKbH9mFcY2diyRSsKcbZ4jHMPk+Rw1WMNhnITN4saXwgkirmZV/RIA5fK3JzMjl0JiLdDeGWkvbn9UIdHyQEroezaFYbbF6471OU6aWe7f+pDIJQ5dYjzwsjUPVKqSHAP6PvO1sOEzquI/LrkIllGbjZxVrSKaW7mGdB39RgpyYG5azZXzObpP84BfQoqjHQsbEelkjFld2U0P+zo1Y/majOzanMnmIEs0hhFcEbBFU7n39SzheY7XR1onJWpz41etTwi7QF9Pd1hji4gX9u+OFs9yzBf4kzVlx9hqgCmu5UL8EsZs7rmIRshMUwdmXVjumF5fLGWL2mRZUPWVU86Fb3i8hxJn0lSCKfSZ9bqM7SKmjJ6bulpexFo+Gv5fioZLifHja9pm57W/H8tAT15KJejeTI1Q4nW60O5Z30EqEpvbQlNaVb0+rrc8cmhjty+c8UO0dvdkRt6Pdf4YilV6E8gKU5PG5OYjlmnipxS0e7ZxoLcQu1lvazMimBZUdOWSShTC+owNL2uzjZ3T5dNeOqTPzFaWhtT6uWk7bnpXHMp45ztOjGdj/bIzFGOuqZ535BpSZEWJbtqB13ZyjndGOxqzbmuf9HIXDk+knt5XcUqEuL8dFVK+d1rFg+gbKP6Os2CaaYMPwbhluJSlV9qtC2WVurjY5HJxbersLeGbDXd8+port65xohzBA+oBPrlMUUaWbvLWP9qfztAWe+wgM31+Q4V3Kx9FqRdIOic3oG7dLho9Gqzjy1e3FjzjeL61KLRs4mb4/uflgrofCBZJJUp/KiZwXm2CuBQjB/f4gzBaKZ5/LwLYYByfYtj7b+jCIsjpe+Jnw+NiK0pP3QuXeRbCEPhk4rIsGZP7NKSIORP/Q+ORalVriLTPH/7uL/mddtUWmpGGN5p+hbCMGlcscRmlv0kypkso30Lm1rs5l3uzyz6HnOkXbNoejku6DyFouVCqmubB9kzlsW5bkXupPiNzSK30b7mxhYfdzZ0VrNFs6aLezRrOctm8ceV0e6fmwhZ9ENRhDknpcs6PSVaaoDqbJRi19nNy21uURjtaWlu97+rh7CbFLDCZNfOH3SsT9JK4+eWFxZ4XlT0GCs0vhiBMPt4I1taWgLtyVG0tOVgMqzlHPNy4Rm6SYGngIwNpvJd0W6501KXfdE/OX29Q0KNI4FuMt+1kGnLHc1jnF2h8do3s2oWdw3sC2VPgKmBxnptvlecjs5qHNDi91q8zZQVBLfvs9m/BJ2pa4h4mxmz3IWbmyWkmOqxoSGg+YemUIcWZrxuXl2jlgQL/lPezqS4OKi0nY6WMQtekBW8bw53UDSLDFp14/gQsJQixPdopicpmjHBpBoJigDsJCZnI10NNfeIvGmSopmg+qO6xYRAqUpOwM02K7qvaMYkTdVIIRAEAUWzIOipaxUCTAgomjHBpBopBIIgoGgWBD11rUKACQFFMyaYVCOFQBAEFM2CoKeuVQgwIaBoxgSTaqQQCIKAolkQ9NS1CgEmBBTNmGBSjRQCQRBQNAuCnrpWIcCEgKIZE0yqkUIgCAKKZkHQU9cqBJgQUDRjgkk1UggEQUDRLAh66lqFABMCimZMMKlGCoEgCCiaBUFPXasQYEJA0YwJJtVIIRAEAUWzIOipaxUCTAgomjHBpBopBIIgoGgWBD11rUKACQFFMyaYVCOFQBAEFM2CoKeuVQgwIfD/wf7inDDrlmQAAAAASUVORK5CYII=)"
      ]
    },
    {
      "cell_type": "code",
      "execution_count": null,
      "metadata": {
        "colab": {
          "base_uri": "https://localhost:8080/",
          "height": 486
        },
        "id": "eQ875QbieWRx",
        "outputId": "8e133361-7a9d-4d03-fa8b-9693578e8240"
      },
      "outputs": [
        {
          "data": {
            "image/png": "[encoded data removed]",
            "text/plain": [
              "<Figure size 720x576 with 1 Axes>"
            ]
          },
          "metadata": {
            "needs_background": "light"
          },
          "output_type": "display_data"
        }
      ],
      "source": [
        "# Single linkage: \n",
        "\n",
        "mergings = linkage(rfm_df_scaled, method=\"single\", metric='euclidean')\n",
        "dendrogram(mergings)\n",
        "plt.show()"
      ]
    },
    {
      "cell_type": "markdown",
      "metadata": {
        "id": "A2-9cKDLdUag"
      },
      "source": [
        "Complete Linkage\n",
        "\n",
        "Dalam pengelompokan hierarki complete linkage, jarak antara dua cluster didefinisikan sebagai jarak terpanjang antara dua titik di setiap cluster. Misalnya, jarak antara cluster \"r\" dan \"s\" ke kiri sama dengan panjang panah antara dua titik terjauhnya.\n",
        "\n",
        "![Clustering_complete.png](data:image/png;base64,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)"
      ]
    },
    {
      "cell_type": "code",
      "execution_count": null,
      "metadata": {
        "colab": {
          "base_uri": "https://localhost:8080/",
          "height": 486
        },
        "id": "V59QiDyGenBp",
        "outputId": "ad4a0314-cd50-4c02-84ec-2979a95f0c35"
      },
      "outputs": [
        {
          "data": {
            "image/png": "[encoded data removed]",
            "text/plain": [
              "<Figure size 720x576 with 1 Axes>"
            ]
          },
          "metadata": {
            "needs_background": "light"
          },
          "output_type": "display_data"
        }
      ],
      "source": [
        "# Complete linkage\n",
        "\n",
        "mergings = linkage(rfm_df_scaled, method=\"complete\", metric='euclidean')\n",
        "dendrogram(mergings)\n",
        "plt.show()"
      ]
    },
    {
      "cell_type": "markdown",
      "metadata": {
        "id": "X-ENyUVCdln9"
      },
      "source": [
        "Average Linkage:\n",
        "\n",
        "Dalam pengelompokan hierarki average linkage, jarak antara dua cluster didefinisikan sebagai jarak rata-rata antara setiap titik dalam satu cluster ke setiap titik di cluster lainnya. Misalnya, jarak antara cluster \"r\" dan \"s\" ke kiri sama dengan panjang rata-rata setiap panah antara menghubungkan titik-titik satu cluster ke cluster lainnya.\n",
        "\n",
        "![Clustering_average.png](data:image/png;base64,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)"
      ]
    },
    {
      "cell_type": "code",
      "execution_count": null,
      "metadata": {
        "colab": {
          "base_uri": "https://localhost:8080/",
          "height": 486
        },
        "id": "uQUR0ISGeqVn",
        "outputId": "46ab6016-4c76-4546-cbfa-161bb5e9b7c7"
      },
      "outputs": [
        {
          "data": {
            "image/png": "[encoded data removed]",
            "text/plain": [
              "<Figure size 720x576 with 1 Axes>"
            ]
          },
          "metadata": {
            "needs_background": "light"
          },
          "output_type": "display_data"
        }
      ],
      "source": [
        "# Average linkage:\n",
        "\n",
        "mergings = linkage(rfm_df_scaled, method=\"average\", metric='euclidean')\n",
        "dendrogram(mergings)\n",
        "plt.show()"
      ]
    },
    {
      "cell_type": "markdown",
      "metadata": {
        "id": "0Jp2cXIGd_8K"
      },
      "source": [
        "Cutting the Dendrogram based on K"
      ]
    },
    {
      "cell_type": "code",
      "execution_count": null,
      "metadata": {
        "colab": {
          "base_uri": "https://localhost:8080/"
        },
        "id": "nySPwUNeevtQ",
        "outputId": "6c2492c1-8c63-4e18-fa45-13d462b59951"
      },
      "outputs": [
        {
          "data": {
            "text/plain": [
              "array([0, 0, 0, ..., 0, 0, 0])"
            ]
          },
          "execution_count": 50,
          "metadata": {},
          "output_type": "execute_result"
        }
      ],
      "source": [
        "# 3 clusters\n",
        "\n",
        "cluster_labels = cut_tree(mergings, n_clusters=3).reshape(-1, )\n",
        "cluster_labels"
      ]
    },
    {
      "cell_type": "code",
      "execution_count": null,
      "metadata": {
        "colab": {
          "base_uri": "https://localhost:8080/",
          "height": 206
        },
        "id": "dkBgpsE9fH4K",
        "outputId": "45f057e4-cc65-41db-c0d8-7ac3354752d9"
      },
      "outputs": [
        {
          "data": {
            "text/html": [
              "\n",
              "  <div id=\"df-1a86c1d3-bcea-44e3-8046-f718335c3ea2\">\n",
              "    <div class=\"colab-df-container\">\n",
              "      <div>\n",
              "<style scoped>\n",
              "    .dataframe tbody tr th:only-of-type {\n",
              "        vertical-align: middle;\n",
              "    }\n",
              "\n",
              "    .dataframe tbody tr th {\n",
              "        vertical-align: top;\n",
              "    }\n",
              "\n",
              "    .dataframe thead th {\n",
              "        text-align: right;\n",
              "    }\n",
              "</style>\n",
              "<table border=\"1\" class=\"dataframe\">\n",
              "  <thead>\n",
              "    <tr style=\"text-align: right;\">\n",
              "      <th></th>\n",
              "      <th>CustomerID</th>\n",
              "      <th>Amount</th>\n",
              "      <th>Frequency</th>\n",
              "      <th>Recency</th>\n",
              "      <th>Cluster_Id</th>\n",
              "      <th>Cluster_Labels</th>\n",
              "    </tr>\n",
              "  </thead>\n",
              "  <tbody>\n",
              "    <tr>\n",
              "      <th>0</th>\n",
              "      <td>12346.0</td>\n",
              "      <td>0.00</td>\n",
              "      <td>2</td>\n",
              "      <td>325</td>\n",
              "      <td>0</td>\n",
              "      <td>0</td>\n",
              "    </tr>\n",
              "    <tr>\n",
              "      <th>1</th>\n",
              "      <td>12347.0</td>\n",
              "      <td>4310.00</td>\n",
              "      <td>182</td>\n",
              "      <td>1</td>\n",
              "      <td>1</td>\n",
              "      <td>0</td>\n",
              "    </tr>\n",
              "    <tr>\n",
              "      <th>2</th>\n",
              "      <td>12348.0</td>\n",
              "      <td>1797.24</td>\n",
              "      <td>31</td>\n",
              "      <td>74</td>\n",
              "      <td>2</td>\n",
              "      <td>0</td>\n",
              "    </tr>\n",
              "    <tr>\n",
              "      <th>3</th>\n",
              "      <td>12349.0</td>\n",
              "      <td>1757.55</td>\n",
              "      <td>73</td>\n",
              "      <td>18</td>\n",
              "      <td>2</td>\n",
              "      <td>0</td>\n",
              "    </tr>\n",
              "    <tr>\n",
              "      <th>4</th>\n",
              "      <td>12350.0</td>\n",
              "      <td>334.40</td>\n",
              "      <td>17</td>\n",
              "      <td>309</td>\n",
              "      <td>0</td>\n",
              "      <td>0</td>\n",
              "    </tr>\n",
              "  </tbody>\n",
              "</table>\n",
              "</div>\n",
              "      <button class=\"colab-df-convert\" onclick=\"convertToInteractive('df-1a86c1d3-bcea-44e3-8046-f718335c3ea2')\"\n",
              "              title=\"Convert this dataframe to an interactive table.\"\n",
              "              style=\"display:none;\">\n",
              "        \n",
              "  <svg xmlns=\"http://www.w3.org/2000/svg\" height=\"24px\"viewBox=\"0 0 24 24\"\n",
              "       width=\"24px\">\n",
              "    <path d=\"M0 0h24v24H0V0z\" fill=\"none\"/>\n",
              "    <path d=\"M18.56 5.44l.94 2.06.94-2.06 2.06-.94-2.06-.94-.94-2.06-.94 2.06-2.06.94zm-11 1L8.5 8.5l.94-2.06 2.06-.94-2.06-.94L8.5 2.5l-.94 2.06-2.06.94zm10 10l.94 2.06.94-2.06 2.06-.94-2.06-.94-.94-2.06-.94 2.06-2.06.94z\"/><path d=\"M17.41 7.96l-1.37-1.37c-.4-.4-.92-.59-1.43-.59-.52 0-1.04.2-1.43.59L10.3 9.45l-7.72 7.72c-.78.78-.78 2.05 0 2.83L4 21.41c.39.39.9.59 1.41.59.51 0 1.02-.2 1.41-.59l7.78-7.78 2.81-2.81c.8-.78.8-2.07 0-2.86zM5.41 20L4 18.59l7.72-7.72 1.47 1.35L5.41 20z\"/>\n",
              "  </svg>\n",
              "      </button>\n",
              "      \n",
              "  <style>\n",
              "    .colab-df-container {\n",
              "      display:flex;\n",
              "      flex-wrap:wrap;\n",
              "      gap: 12px;\n",
              "    }\n",
              "\n",
              "    .colab-df-convert {\n",
              "      background-color: #E8F0FE;\n",
              "      border: none;\n",
              "      border-radius: 50%;\n",
              "      cursor: pointer;\n",
              "      display: none;\n",
              "      fill: #1967D2;\n",
              "      height: 32px;\n",
              "      padding: 0 0 0 0;\n",
              "      width: 32px;\n",
              "    }\n",
              "\n",
              "    .colab-df-convert:hover {\n",
              "      background-color: #E2EBFA;\n",
              "      box-shadow: 0px 1px 2px rgba(60, 64, 67, 0.3), 0px 1px 3px 1px rgba(60, 64, 67, 0.15);\n",
              "      fill: #174EA6;\n",
              "    }\n",
              "\n",
              "    [theme=dark] .colab-df-convert {\n",
              "      background-color: #3B4455;\n",
              "      fill: #D2E3FC;\n",
              "    }\n",
              "\n",
              "    [theme=dark] .colab-df-convert:hover {\n",
              "      background-color: #434B5C;\n",
              "      box-shadow: 0px 1px 3px 1px rgba(0, 0, 0, 0.15);\n",
              "      filter: drop-shadow(0px 1px 2px rgba(0, 0, 0, 0.3));\n",
              "      fill: #FFFFFF;\n",
              "    }\n",
              "  </style>\n",
              "\n",
              "      <script>\n",
              "        const buttonEl =\n",
              "          document.querySelector('#df-1a86c1d3-bcea-44e3-8046-f718335c3ea2 button.colab-df-convert');\n",
              "        buttonEl.style.display =\n",
              "          google.colab.kernel.accessAllowed ? 'block' : 'none';\n",
              "\n",
              "        async function convertToInteractive(key) {\n",
              "          const element = document.querySelector('#df-1a86c1d3-bcea-44e3-8046-f718335c3ea2');\n",
              "          const dataTable =\n",
              "            await google.colab.kernel.invokeFunction('convertToInteractive',\n",
              "                                                     [key], {});\n",
              "          if (!dataTable) return;\n",
              "\n",
              "          const docLinkHtml = 'Like what you see? Visit the ' +\n",
              "            '<a target=\"_blank\" href=https://colab.research.google.com/notebooks/data_table.ipynb>data table notebook</a>'\n",
              "            + ' to learn more about interactive tables.';\n",
              "          element.innerHTML = '';\n",
              "          dataTable['output_type'] = 'display_data';\n",
              "          await google.colab.output.renderOutput(dataTable, element);\n",
              "          const docLink = document.createElement('div');\n",
              "          docLink.innerHTML = docLinkHtml;\n",
              "          element.appendChild(docLink);\n",
              "        }\n",
              "      </script>\n",
              "    </div>\n",
              "  </div>\n",
              "  "
            ],
            "text/plain": [
              "  CustomerID   Amount  Frequency  Recency  Cluster_Id  Cluster_Labels\n",
              "0    12346.0     0.00          2      325           0               0\n",
              "1    12347.0  4310.00        182        1           1               0\n",
              "2    12348.0  1797.24         31       74           2               0\n",
              "3    12349.0  1757.55         73       18           2               0\n",
              "4    12350.0   334.40         17      309           0               0"
            ]
          },
          "execution_count": 51,
          "metadata": {},
          "output_type": "execute_result"
        }
      ],
      "source": [
        "# Menetapkan label pada kluster\n",
        "\n",
        "rfm['Cluster_Labels'] = cluster_labels\n",
        "rfm.head()"
      ]
    },
    {
      "cell_type": "code",
      "execution_count": null,
      "metadata": {
        "colab": {
          "base_uri": "https://localhost:8080/",
          "height": 515
        },
        "id": "AKF1R-o1fMdM",
        "outputId": "03861647-a105-4f29-8de3-c33e2e0a8cd7"
      },
      "outputs": [
        {
          "data": {
            "text/plain": [
              "<matplotlib.axes._subplots.AxesSubplot at 0x7fa1c0f05990>"
            ]
          },
          "execution_count": 52,
          "metadata": {},
          "output_type": "execute_result"
        },
        {
          "data": {
            "image/png": "[encoded data removed]",
            "text/plain": [
              "<Figure size 720x576 with 1 Axes>"
            ]
          },
          "metadata": {
            "needs_background": "light"
          },
          "output_type": "display_data"
        }
      ],
      "source": [
        "# Plot Cluster Id vs Amount\n",
        "\n",
        "sns.boxplot(x='Cluster_Labels', y='Amount', data=rfm)"
      ]
    },
    {
      "cell_type": "code",
      "execution_count": null,
      "metadata": {
        "colab": {
          "base_uri": "https://localhost:8080/",
          "height": 515
        },
        "id": "gVhXs_pRfOzl",
        "outputId": "0d8012ed-72d1-4adc-b46b-57a28fb8e949"
      },
      "outputs": [
        {
          "data": {
            "text/plain": [
              "<matplotlib.axes._subplots.AxesSubplot at 0x7fa1c11f9c50>"
            ]
          },
          "execution_count": 53,
          "metadata": {},
          "output_type": "execute_result"
        },
        {
          "data": {
            "image/png": "[encoded data removed]",
            "text/plain": [
              "<Figure size 720x576 with 1 Axes>"
            ]
          },
          "metadata": {
            "needs_background": "light"
          },
          "output_type": "display_data"
        }
      ],
      "source": [
        "# Plot Cluster Id vs Frequency\n",
        "\n",
        "sns.boxplot(x='Cluster_Labels', y='Frequency', data=rfm)"
      ]
    },
    {
      "cell_type": "code",
      "execution_count": null,
      "metadata": {
        "colab": {
          "base_uri": "https://localhost:8080/",
          "height": 515
        },
        "id": "Gu8KJ-s0fRIK",
        "outputId": "e155fdfe-ff0e-428f-c400-7eee8b0eae0d"
      },
      "outputs": [
        {
          "data": {
            "text/plain": [
              "<matplotlib.axes._subplots.AxesSubplot at 0x7fa1c21be650>"
            ]
          },
          "execution_count": 54,
          "metadata": {},
          "output_type": "execute_result"
        },
        {
          "data": {
            "image/png": "[encoded data removed]",
            "text/plain": [
              "<Figure size 720x576 with 1 Axes>"
            ]
          },
          "metadata": {
            "needs_background": "light"
          },
          "output_type": "display_data"
        }
      ],
      "source": [
        "# Plot Cluster Id vs Recency\n",
        "\n",
        "sns.boxplot(x='Cluster_Labels', y='Recency', data=rfm)"
      ]
    },
    {
      "cell_type": "markdown",
      "metadata": {
        "id": "miA30ihfg3bC"
      },
      "source": [
        "# Final Analysis"
      ]
    },
    {
      "cell_type": "markdown",
      "metadata": {
        "id": "M5FtesxyRAOO"
      },
      "source": [
        "Hasil akhir yang ditemukan adalah\n",
        "\n",
        "K-means clustering\n",
        "\n",
        "1. Nasabah dengan Cluster Id 1 merupakan nasabah dengan jumlah transaksi yang tinggi dibandingkan dengan nasabah lainnya.\n",
        "\n",
        "2. Pelanggan dengan Id Cluster 1 adalah pembeli tetap.\n",
        "\n",
        "3. Pelanggan dengan Id Cluster 2 bukan pembeli baru-baru ini dan dalam posisi tidak terlalu penting di sudut pandang bisnis\n",
        "\n",
        "Hiearcial Clustering \n",
        "\n",
        "1. Pelanggan dengan Cluster_Labels 2 adalah pelanggan dengan jumlah transaksi yang tinggi dibandingkan dengan pelanggan lain.\n",
        "\n",
        "2. Pelanggan dengan Cluster_Labels 2 adalah pembeli tetap.\n",
        "\n",
        "3. Pelanggan dengan Cluster_Labels 0 bukan pembeli baru-baru ini dan dalam posisi tidak terlalu penting di sudut pandang bisnis"
      ]
    },
    {
      "cell_type": "markdown",
      "metadata": {
        "id": "FCw21K38Sl7_"
      },
      "source": [
        "Yang saya pelajari mengenai k-means dari coding diatas adalah k-means merupakan salah satu unsupervised learning dengan tujuan untuk melakukan pengelompokan data.\n",
        "\n",
        "Dari contoh diatas, tahapan yang dilakukan adalah\n",
        "\n",
        "1. mencari titik acak atau K points\n",
        "2. mengkategorikan setiap item ke dalam mean terdekatnya dan update koordinat mean, yang merupakan rata-rata dari mean tiap item\n",
        "3. pengulangan proses jumlah iterasi untuk mendapatkan cluster yang diperlukan\n",
        "\n",
        "Namun sebelumnya kita bisa menggunakan metode elbow curves dalam mencari angka optimal untuk klusterisasi dan juga silhouette analysis\n",
        "\n",
        "Perbedaan dari kedua metode ini adalah silhouette lebih memberikan hasil yang presisi untuk nilai dan k points sedangkan metode elbow sendiri memiliki respons yang cepat dan intuisi ketimbang dari silhouette.\n",
        "\n",
        "Dan akhirnya pengelompokkan dapat ditetapkan sehingga dapat dilakukan analisis akhir terkait dari data yang diperlukan.\n"
      ]
    }
  ],
  "metadata": {
    "colab": {
      "provenance": []
    },
    "kernelspec": {
      "display_name": "Python 3",
      "name": "python3"
    },
    "language_info": {
      "name": "python"
    }
  },
  "nbformat": 4,
  "nbformat_minor": 0
}
